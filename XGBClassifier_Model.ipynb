{
 "cells": [
  {
   "cell_type": "code",
   "execution_count": 21,
   "metadata": {
    "id": "9Mh1MNNH4WH8"
   },
   "outputs": [],
   "source": [
    "# Importing libraries\n",
    "import xgboost as xgb\n",
    "from xgboost import XGBClassifier\n",
    "import pandas as pd\n",
    "import numpy as np\n",
    "from sklearn.model_selection import GridSearchCV\n",
    "from sklearn.metrics import roc_auc_score, accuracy_score, classification_report\n",
    "import matplotlib.pyplot as plt\n",
    "from sklearn.model_selection import train_test_split\n",
    "import matplotlib.pyplot as plt\n",
    "from sklearn.metrics import confusion_matrix\n",
    "from sklearn.metrics import plot_confusion_matrix"
   ]
  },
  {
   "cell_type": "code",
   "execution_count": 2,
   "metadata": {
    "id": "b7nM_SPI4jOO"
   },
   "outputs": [],
   "source": [
    "df = pd.read_csv(\"/content/IGRA_derived.csv\")"
   ]
  },
  {
   "cell_type": "code",
   "execution_count": 3,
   "metadata": {
    "id": "hD5UXE284jR0"
   },
   "outputs": [],
   "source": [
    "df = df.rename(columns={'Unnamed: 0':'date'})\n",
    "df['date'] = pd.to_datetime(df.date)\n",
    "df['month']= df.date.dt.month"
   ]
  },
  {
   "cell_type": "code",
   "execution_count": 4,
   "metadata": {
    "colab": {
     "base_uri": "https://localhost:8080/",
     "height": 282
    },
    "id": "GAnY1_W84jVV",
    "outputId": "99582627-43cc-4426-9774-384d0926636c"
   },
   "outputs": [
    {
     "data": {
      "text/plain": [
       "<matplotlib.axes._subplots.AxesSubplot at 0x7f72187c53d0>"
      ]
     },
     "execution_count": 4,
     "metadata": {},
     "output_type": "execute_result"
    },
    {
     "data": {
      "image/png": "[encoded data removed]",
      "text/plain": [
       "<Figure size 432x288 with 1 Axes>"
      ]
     },
     "metadata": {
      "needs_background": "light"
     },
     "output_type": "display_data"
    }
   ],
   "source": [
    "df.month.value_counts().sort_index().plot()"
   ]
  },
  {
   "cell_type": "code",
   "execution_count": 5,
   "metadata": {
    "id": "gtV5eVNYMAc3"
   },
   "outputs": [],
   "source": [
    "y=df['rained']\n",
    "X = df.iloc[:,1:]\n",
    "X=X.drop(columns=['rained'])"
   ]
  },
  {
   "cell_type": "code",
   "execution_count": 6,
   "metadata": {
    "id": "4-rv2xipMAhC"
   },
   "outputs": [],
   "source": [
    "# Splitting data\n",
    "X_train, X_test, y_train, y_test = train_test_split(X, y, test_size=0.15, stratify=df[['rained', 'month']],random_state=123)"
   ]
  },
  {
   "cell_type": "code",
   "execution_count": 7,
   "metadata": {
    "id": "CCoiAwOAMAoD"
   },
   "outputs": [],
   "source": [
    "# Transforming features using Min Max Scaler\n",
    "from sklearn.preprocessing import MinMaxScaler\n",
    "scaler = MinMaxScaler().fit(X)\n",
    "X = scaler.transform(X)"
   ]
  },
  {
   "cell_type": "code",
   "execution_count": 8,
   "metadata": {
    "colab": {
     "base_uri": "https://localhost:8080/",
     "height": 660
    },
    "id": "PC1gbpGU4jYf",
    "outputId": "5dc1b56a-410d-434e-dd28-3d3ab6de6cf2"
   },
   "outputs": [
    {
     "data": {
      "text/html": [
       "<div>\n",
       "<style scoped>\n",
       "    .dataframe tbody tr th:only-of-type {\n",
       "        vertical-align: middle;\n",
       "    }\n",
       "\n",
       "    .dataframe tbody tr th {\n",
       "        vertical-align: top;\n",
       "    }\n",
       "\n",
       "    .dataframe thead th {\n",
       "        text-align: right;\n",
       "    }\n",
       "</style>\n",
       "<table border=\"1\" class=\"dataframe\">\n",
       "  <thead>\n",
       "    <tr style=\"text-align: right;\">\n",
       "      <th></th>\n",
       "      <th>date</th>\n",
       "      <th>Seasonality</th>\n",
       "      <th>Lower level humidity</th>\n",
       "      <th>Mid level humidity</th>\n",
       "      <th>U-wind at lower and mid levels</th>\n",
       "      <th>V-wind at lower and mid levels</th>\n",
       "      <th>Convective Condensation Level - thermodynamics</th>\n",
       "      <th>Total Precipitable Water - thermodynamics</th>\n",
       "      <th>rained</th>\n",
       "      <th>month_1</th>\n",
       "      <th>month_2</th>\n",
       "      <th>month_3</th>\n",
       "      <th>month_4</th>\n",
       "      <th>month_5</th>\n",
       "      <th>month_6</th>\n",
       "      <th>month_7</th>\n",
       "      <th>month_8</th>\n",
       "      <th>month_9</th>\n",
       "      <th>month_10</th>\n",
       "      <th>month_11</th>\n",
       "      <th>month_12</th>\n",
       "    </tr>\n",
       "  </thead>\n",
       "  <tbody>\n",
       "    <tr>\n",
       "      <th>0</th>\n",
       "      <td>2008-01-07</td>\n",
       "      <td>175.0</td>\n",
       "      <td>86.499196</td>\n",
       "      <td>57.931008</td>\n",
       "      <td>-6.902578</td>\n",
       "      <td>-0.314079</td>\n",
       "      <td>938.737374</td>\n",
       "      <td>51.698735</td>\n",
       "      <td>1</td>\n",
       "      <td>1</td>\n",
       "      <td>0</td>\n",
       "      <td>0</td>\n",
       "      <td>0</td>\n",
       "      <td>0</td>\n",
       "      <td>0</td>\n",
       "      <td>0</td>\n",
       "      <td>0</td>\n",
       "      <td>0</td>\n",
       "      <td>0</td>\n",
       "      <td>0</td>\n",
       "      <td>0</td>\n",
       "    </tr>\n",
       "    <tr>\n",
       "      <th>1</th>\n",
       "      <td>2008-01-09</td>\n",
       "      <td>173.0</td>\n",
       "      <td>86.168358</td>\n",
       "      <td>54.514297</td>\n",
       "      <td>-3.278000</td>\n",
       "      <td>0.458702</td>\n",
       "      <td>926.737374</td>\n",
       "      <td>51.078540</td>\n",
       "      <td>0</td>\n",
       "      <td>1</td>\n",
       "      <td>0</td>\n",
       "      <td>0</td>\n",
       "      <td>0</td>\n",
       "      <td>0</td>\n",
       "      <td>0</td>\n",
       "      <td>0</td>\n",
       "      <td>0</td>\n",
       "      <td>0</td>\n",
       "      <td>0</td>\n",
       "      <td>0</td>\n",
       "      <td>0</td>\n",
       "    </tr>\n",
       "    <tr>\n",
       "      <th>2</th>\n",
       "      <td>2008-01-10</td>\n",
       "      <td>172.0</td>\n",
       "      <td>79.143281</td>\n",
       "      <td>57.851667</td>\n",
       "      <td>-3.922668</td>\n",
       "      <td>-0.298095</td>\n",
       "      <td>939.977719</td>\n",
       "      <td>50.557384</td>\n",
       "      <td>0</td>\n",
       "      <td>1</td>\n",
       "      <td>0</td>\n",
       "      <td>0</td>\n",
       "      <td>0</td>\n",
       "      <td>0</td>\n",
       "      <td>0</td>\n",
       "      <td>0</td>\n",
       "      <td>0</td>\n",
       "      <td>0</td>\n",
       "      <td>0</td>\n",
       "      <td>0</td>\n",
       "      <td>0</td>\n",
       "    </tr>\n",
       "    <tr>\n",
       "      <th>3</th>\n",
       "      <td>2008-01-11</td>\n",
       "      <td>171.0</td>\n",
       "      <td>95.091659</td>\n",
       "      <td>46.222987</td>\n",
       "      <td>-3.805388</td>\n",
       "      <td>-0.805555</td>\n",
       "      <td>945.386941</td>\n",
       "      <td>50.415913</td>\n",
       "      <td>0</td>\n",
       "      <td>1</td>\n",
       "      <td>0</td>\n",
       "      <td>0</td>\n",
       "      <td>0</td>\n",
       "      <td>0</td>\n",
       "      <td>0</td>\n",
       "      <td>0</td>\n",
       "      <td>0</td>\n",
       "      <td>0</td>\n",
       "      <td>0</td>\n",
       "      <td>0</td>\n",
       "      <td>0</td>\n",
       "    </tr>\n",
       "    <tr>\n",
       "      <th>4</th>\n",
       "      <td>2008-01-14</td>\n",
       "      <td>168.0</td>\n",
       "      <td>84.461156</td>\n",
       "      <td>50.054546</td>\n",
       "      <td>-5.205679</td>\n",
       "      <td>-1.960991</td>\n",
       "      <td>949.060606</td>\n",
       "      <td>47.665345</td>\n",
       "      <td>0</td>\n",
       "      <td>1</td>\n",
       "      <td>0</td>\n",
       "      <td>0</td>\n",
       "      <td>0</td>\n",
       "      <td>0</td>\n",
       "      <td>0</td>\n",
       "      <td>0</td>\n",
       "      <td>0</td>\n",
       "      <td>0</td>\n",
       "      <td>0</td>\n",
       "      <td>0</td>\n",
       "      <td>0</td>\n",
       "    </tr>\n",
       "    <tr>\n",
       "      <th>...</th>\n",
       "      <td>...</td>\n",
       "      <td>...</td>\n",
       "      <td>...</td>\n",
       "      <td>...</td>\n",
       "      <td>...</td>\n",
       "      <td>...</td>\n",
       "      <td>...</td>\n",
       "      <td>...</td>\n",
       "      <td>...</td>\n",
       "      <td>...</td>\n",
       "      <td>...</td>\n",
       "      <td>...</td>\n",
       "      <td>...</td>\n",
       "      <td>...</td>\n",
       "      <td>...</td>\n",
       "      <td>...</td>\n",
       "      <td>...</td>\n",
       "      <td>...</td>\n",
       "      <td>...</td>\n",
       "      <td>...</td>\n",
       "      <td>...</td>\n",
       "    </tr>\n",
       "    <tr>\n",
       "      <th>2081</th>\n",
       "      <td>2020-11-23</td>\n",
       "      <td>146.0</td>\n",
       "      <td>80.763536</td>\n",
       "      <td>63.038494</td>\n",
       "      <td>-3.095620</td>\n",
       "      <td>-0.112123</td>\n",
       "      <td>927.919751</td>\n",
       "      <td>50.410511</td>\n",
       "      <td>0</td>\n",
       "      <td>0</td>\n",
       "      <td>0</td>\n",
       "      <td>0</td>\n",
       "      <td>0</td>\n",
       "      <td>0</td>\n",
       "      <td>0</td>\n",
       "      <td>0</td>\n",
       "      <td>0</td>\n",
       "      <td>0</td>\n",
       "      <td>0</td>\n",
       "      <td>1</td>\n",
       "      <td>0</td>\n",
       "    </tr>\n",
       "    <tr>\n",
       "      <th>2082</th>\n",
       "      <td>2020-11-24</td>\n",
       "      <td>147.0</td>\n",
       "      <td>79.875799</td>\n",
       "      <td>57.782143</td>\n",
       "      <td>-2.019782</td>\n",
       "      <td>0.478315</td>\n",
       "      <td>946.881988</td>\n",
       "      <td>50.222681</td>\n",
       "      <td>0</td>\n",
       "      <td>0</td>\n",
       "      <td>0</td>\n",
       "      <td>0</td>\n",
       "      <td>0</td>\n",
       "      <td>0</td>\n",
       "      <td>0</td>\n",
       "      <td>0</td>\n",
       "      <td>0</td>\n",
       "      <td>0</td>\n",
       "      <td>0</td>\n",
       "      <td>1</td>\n",
       "      <td>0</td>\n",
       "    </tr>\n",
       "    <tr>\n",
       "      <th>2083</th>\n",
       "      <td>2020-11-25</td>\n",
       "      <td>148.0</td>\n",
       "      <td>85.373563</td>\n",
       "      <td>69.314963</td>\n",
       "      <td>-3.153909</td>\n",
       "      <td>0.433123</td>\n",
       "      <td>946.881988</td>\n",
       "      <td>54.550453</td>\n",
       "      <td>0</td>\n",
       "      <td>0</td>\n",
       "      <td>0</td>\n",
       "      <td>0</td>\n",
       "      <td>0</td>\n",
       "      <td>0</td>\n",
       "      <td>0</td>\n",
       "      <td>0</td>\n",
       "      <td>0</td>\n",
       "      <td>0</td>\n",
       "      <td>0</td>\n",
       "      <td>1</td>\n",
       "      <td>0</td>\n",
       "    </tr>\n",
       "    <tr>\n",
       "      <th>2084</th>\n",
       "      <td>2020-11-26</td>\n",
       "      <td>149.0</td>\n",
       "      <td>83.473585</td>\n",
       "      <td>66.102843</td>\n",
       "      <td>-4.562995</td>\n",
       "      <td>-0.407110</td>\n",
       "      <td>939.577570</td>\n",
       "      <td>51.762909</td>\n",
       "      <td>1</td>\n",
       "      <td>0</td>\n",
       "      <td>0</td>\n",
       "      <td>0</td>\n",
       "      <td>0</td>\n",
       "      <td>0</td>\n",
       "      <td>0</td>\n",
       "      <td>0</td>\n",
       "      <td>0</td>\n",
       "      <td>0</td>\n",
       "      <td>0</td>\n",
       "      <td>1</td>\n",
       "      <td>0</td>\n",
       "    </tr>\n",
       "    <tr>\n",
       "      <th>2085</th>\n",
       "      <td>2020-11-27</td>\n",
       "      <td>150.0</td>\n",
       "      <td>82.885946</td>\n",
       "      <td>49.430367</td>\n",
       "      <td>-4.475191</td>\n",
       "      <td>-0.250980</td>\n",
       "      <td>940.602865</td>\n",
       "      <td>47.877956</td>\n",
       "      <td>1</td>\n",
       "      <td>0</td>\n",
       "      <td>0</td>\n",
       "      <td>0</td>\n",
       "      <td>0</td>\n",
       "      <td>0</td>\n",
       "      <td>0</td>\n",
       "      <td>0</td>\n",
       "      <td>0</td>\n",
       "      <td>0</td>\n",
       "      <td>0</td>\n",
       "      <td>1</td>\n",
       "      <td>0</td>\n",
       "    </tr>\n",
       "  </tbody>\n",
       "</table>\n",
       "<p>2086 rows × 21 columns</p>\n",
       "</div>"
      ],
      "text/plain": [
       "           date  Seasonality  ...  month_11  month_12\n",
       "0    2008-01-07        175.0  ...         0         0\n",
       "1    2008-01-09        173.0  ...         0         0\n",
       "2    2008-01-10        172.0  ...         0         0\n",
       "3    2008-01-11        171.0  ...         0         0\n",
       "4    2008-01-14        168.0  ...         0         0\n",
       "...         ...          ...  ...       ...       ...\n",
       "2081 2020-11-23        146.0  ...         1         0\n",
       "2082 2020-11-24        147.0  ...         1         0\n",
       "2083 2020-11-25        148.0  ...         1         0\n",
       "2084 2020-11-26        149.0  ...         1         0\n",
       "2085 2020-11-27        150.0  ...         1         0\n",
       "\n",
       "[2086 rows x 21 columns]"
      ]
     },
     "execution_count": 8,
     "metadata": {},
     "output_type": "execute_result"
    }
   ],
   "source": [
    "one_hot_encoded_data = pd.get_dummies(df, columns = ['month'])\n",
    "df=pd.DataFrame(data=one_hot_encoded_data)\n",
    "df"
   ]
  },
  {
   "cell_type": "code",
   "execution_count": 9,
   "metadata": {
    "colab": {
     "base_uri": "https://localhost:8080/"
    },
    "id": "1XJxswPu8nMS",
    "outputId": "228349ad-0a52-4a6e-fb84-1b785d36cc43"
   },
   "outputs": [
    {
     "data": {
      "text/plain": [
       "(1773, 8)"
      ]
     },
     "execution_count": 9,
     "metadata": {},
     "output_type": "execute_result"
    }
   ],
   "source": [
    "X_train.shape"
   ]
  },
  {
   "cell_type": "code",
   "execution_count": 10,
   "metadata": {
    "colab": {
     "base_uri": "https://localhost:8080/"
    },
    "id": "WC2QAxmZ8nSb",
    "outputId": "6dacb8cc-db92-4434-b1ec-2cd20a6a79ce"
   },
   "outputs": [
    {
     "data": {
      "text/plain": [
       "(1773,)"
      ]
     },
     "execution_count": 10,
     "metadata": {},
     "output_type": "execute_result"
    }
   ],
   "source": [
    "y_train.shape"
   ]
  },
  {
   "cell_type": "code",
   "execution_count": 11,
   "metadata": {
    "colab": {
     "base_uri": "https://localhost:8080/"
    },
    "id": "YZeSlBAY5HDy",
    "outputId": "ebbf21c5-0c9c-4b03-f84d-5d2a0f7aaf72"
   },
   "outputs": [
    {
     "data": {
      "text/plain": [
       "XGBClassifier()"
      ]
     },
     "execution_count": 11,
     "metadata": {},
     "output_type": "execute_result"
    }
   ],
   "source": [
    "XGBClassifier()"
   ]
  },
  {
   "cell_type": "code",
   "execution_count": 12,
   "metadata": {
    "colab": {
     "base_uri": "https://localhost:8080/"
    },
    "id": "viTJzsnp7Cei",
    "outputId": "e9384642-1f84-4921-9d44-0a84b4b0efa7"
   },
   "outputs": [
    {
     "data": {
      "text/plain": [
       "XGBClassifier()"
      ]
     },
     "execution_count": 12,
     "metadata": {},
     "output_type": "execute_result"
    }
   ],
   "source": [
    "xg_cl = XGBClassifier()\n",
    "xg_cl.fit(X_train, y_train)"
   ]
  },
  {
   "cell_type": "code",
   "execution_count": 13,
   "metadata": {
    "colab": {
     "base_uri": "https://localhost:8080/"
    },
    "id": "PYoHQgX_7Cir",
    "outputId": "70fbca64-2332-4435-baf3-6d84cd5d5957"
   },
   "outputs": [
    {
     "name": "stdout",
     "output_type": "stream",
     "text": [
      "0.8019169329073482\n",
      "              precision    recall  f1-score   support\n",
      "\n",
      "           0       0.77      0.65      0.70       114\n",
      "           1       0.82      0.89      0.85       199\n",
      "\n",
      "    accuracy                           0.80       313\n",
      "   macro avg       0.79      0.77      0.78       313\n",
      "weighted avg       0.80      0.80      0.80       313\n",
      "\n"
     ]
    }
   ],
   "source": [
    "y_pred = xg_cl.predict(X_test)\n",
    "print(accuracy_score(y_test, y_pred))\n",
    "print(classification_report(y_test, y_pred))\n",
    "#pd.crosstab(y_test, y_pred)"
   ]
  },
  {
   "cell_type": "code",
   "execution_count": 15,
   "metadata": {
    "colab": {
     "base_uri": "https://localhost:8080/"
    },
    "id": "Z9dMDa207Cqc",
    "outputId": "0693911b-be48-47c3-fd9d-796e9329fdce"
   },
   "outputs": [
    {
     "name": "stdout",
     "output_type": "stream",
     "text": [
      "Train accuracy 0.8550479413423576\n",
      "Test accuracy 0.8019169329073482\n"
     ]
    }
   ],
   "source": [
    "# Tuning parameters\n",
    "xg_cl = XGBClassifier(max_depth= 3,\n",
    "                      subsample = 1,\n",
    "                      n_estimators = 100,\n",
    "                      learning_rate =0.1,\n",
    "                      min_child_weight = 1,\n",
    "                      random_state = 123,\n",
    "                      reg_alpha = 0,\n",
    "                      reg_lambda = 1,\n",
    "                      \n",
    "                      )\n",
    "xg_cl.fit(X_train, y_train)\n",
    "\n",
    "y_train_pred = xg_cl.predict(X_train)\n",
    "print('Train accuracy', accuracy_score(y_train, y_train_pred))\n",
    "\n",
    "y_pred = xg_cl.predict(X_test)\n",
    "print('Test accuracy', accuracy_score(y_test, y_pred))\n"
   ]
  },
  {
   "cell_type": "code",
   "execution_count": 19,
   "metadata": {
    "colab": {
     "base_uri": "https://localhost:8080/"
    },
    "id": "dCDJjcJo9iah",
    "outputId": "26d62d88-f3a9-4ed5-f808-58992ece6d89"
   },
   "outputs": [
    {
     "name": "stdout",
     "output_type": "stream",
     "text": [
      "AUC Train :0.8314\n",
      "AUC Test: 0.7693\n"
     ]
    }
   ],
   "source": [
    "y_train_pred = xg_cl.predict(X_train)\n",
    "y_test_pred = xg_cl.predict(X_test)\n",
    "print(\"AUC Train :{:.4f}\\nAUC Test: {:.4f}\".format(roc_auc_score(y_train,y_train_pred),\n",
    "                                                    roc_auc_score(y_test,y_test_pred)))"
   ]
  },
  {
   "cell_type": "code",
   "execution_count": 22,
   "metadata": {
    "colab": {
     "base_uri": "https://localhost:8080/",
     "height": 350
    },
    "id": "3celSWBy-7T3",
    "outputId": "e5f97c60-83e5-4238-e10c-72de42f5544d"
   },
   "outputs": [
    {
     "name": "stderr",
     "output_type": "stream",
     "text": [
      "/usr/local/lib/python3.7/dist-packages/sklearn/utils/deprecation.py:87: FutureWarning: Function plot_confusion_matrix is deprecated; Function `plot_confusion_matrix` is deprecated in 1.0 and will be removed in 1.2. Use one of the class methods: ConfusionMatrixDisplay.from_predictions or ConfusionMatrixDisplay.from_estimator.\n",
      "  warnings.warn(msg, category=FutureWarning)\n"
     ]
    },
    {
     "data": {
      "text/plain": [
       "<sklearn.metrics._plot.confusion_matrix.ConfusionMatrixDisplay at 0x7f71f9bb4410>"
      ]
     },
     "execution_count": 22,
     "metadata": {},
     "output_type": "execute_result"
    },
    {
     "data": {
      "image/png": "[encoded data removed]",
      "text/plain": [
       "<Figure size 432x288 with 2 Axes>"
      ]
     },
     "metadata": {
      "needs_background": "light"
     },
     "output_type": "display_data"
    }
   ],
   "source": [
    "# plotting confusion matrix\n",
    "plot_confusion_matrix(xg_cl,\n",
    "                      X_test,\n",
    "                      y_test,\n",
    "                      values_format = 'd')"
   ]
  }
 ],
 "metadata": {
  "colab": {
   "collapsed_sections": [],
   "name": "XGBClassifier_Derived_Final.ipynb",
   "provenance": []
  },
  "kernelspec": {
   "display_name": "Python 3 (ipykernel)",
   "language": "python",
   "name": "python3"
  },
  "language_info": {
   "codemirror_mode": {
    "name": "ipython",
    "version": 3
   },
   "file_extension": ".py",
   "mimetype": "text/x-python",
   "name": "python",
   "nbconvert_exporter": "python",
   "pygments_lexer": "ipython3",
   "version": "3.9.12"
  }
 },
 "nbformat": 4,
 "nbformat_minor": 1
}
