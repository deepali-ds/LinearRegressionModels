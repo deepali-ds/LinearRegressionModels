{
 "cells": [
  {
   "cell_type": "markdown",
   "metadata": {
    "id": "zwSP6EPK0qwS"
   },
   "source": [
    "**LightGBM Model **"
   ]
  },
  {
   "cell_type": "code",
   "execution_count": null,
   "metadata": {
    "id": "8_sXLW130rVk"
   },
   "outputs": [],
   "source": [
    "# Importing libraries\n",
    "import pandas as pd\n",
    "import numpy as np\n",
    "import matplotlib.pyplot as plt\n",
    "from sklearn.model_selection import train_test_split\n",
    "from sklearn.metrics import roc_auc_score, accuracy_score\n",
    "import lightgbm as lgbm"
   ]
  },
  {
   "cell_type": "code",
   "execution_count": null,
   "metadata": {
    "id": "2FoGWkTT0rZO"
   },
   "outputs": [],
   "source": [
    "df = pd.read_csv(\"/content/IGRA_derived.csv\")"
   ]
  },
  {
   "cell_type": "code",
   "execution_count": null,
   "metadata": {
    "id": "lN85BEvQ1H7G"
   },
   "outputs": [],
   "source": [
    "df = df.rename(columns={'Unnamed: 0':'date'})\n",
    "df['date'] = pd.to_datetime(df.date)\n",
    "df['month']= df.date.dt.month"
   ]
  },
  {
   "cell_type": "code",
   "execution_count": null,
   "metadata": {
    "id": "TXsDWOm41H-y"
   },
   "outputs": [],
   "source": [
    "y=df['rained']\n",
    "X = df.iloc[:,1:]\n",
    "X=X.drop(columns=['rained'])"
   ]
  },
  {
   "cell_type": "code",
   "execution_count": null,
   "metadata": {
    "id": "WKsHC1-Z1IB8"
   },
   "outputs": [],
   "source": [
    "# Splitting data\n",
    "X_train, X_test, y_train, y_test = train_test_split(X, y, test_size=0.15, stratify=df[['rained', 'month']],random_state=123)"
   ]
  },
  {
   "cell_type": "code",
   "execution_count": null,
   "metadata": {
    "id": "fVoQYAs_1IFQ"
   },
   "outputs": [],
   "source": [
    "# Transforming features using Min Max Scaler\n",
    "from sklearn.preprocessing import MinMaxScaler\n",
    "scaler = MinMaxScaler().fit(X)\n",
    "X = scaler.transform(X)"
   ]
  },
  {
   "cell_type": "code",
   "execution_count": null,
   "metadata": {
    "id": "UCQDhGuZ1II4"
   },
   "outputs": [],
   "source": [
    "# One hot encoding\n",
    "one_hot_encoded_data = pd.get_dummies(df, columns = ['month'])\n",
    "df=pd.DataFrame(data=one_hot_encoded_data)"
   ]
  },
  {
   "cell_type": "code",
   "execution_count": null,
   "metadata": {
    "colab": {
     "base_uri": "https://localhost:8080/",
     "height": 264
    },
    "id": "YlBQkMhV1XTR",
    "outputId": "0119ef0c-724b-4374-a362-1bd9dc011464"
   },
   "outputs": [
    {
     "data": {
      "text/html": [
       "<div>\n",
       "<style scoped>\n",
       "    .dataframe tbody tr th:only-of-type {\n",
       "        vertical-align: middle;\n",
       "    }\n",
       "\n",
       "    .dataframe tbody tr th {\n",
       "        vertical-align: top;\n",
       "    }\n",
       "\n",
       "    .dataframe thead th {\n",
       "        text-align: right;\n",
       "    }\n",
       "</style>\n",
       "<table border=\"1\" class=\"dataframe\">\n",
       "  <thead>\n",
       "    <tr style=\"text-align: right;\">\n",
       "      <th></th>\n",
       "      <th>date</th>\n",
       "      <th>Seasonality</th>\n",
       "      <th>Lower level humidity</th>\n",
       "      <th>Mid level humidity</th>\n",
       "      <th>U-wind at lower and mid levels</th>\n",
       "      <th>V-wind at lower and mid levels</th>\n",
       "      <th>Convective Condensation Level - thermodynamics</th>\n",
       "      <th>Total Precipitable Water - thermodynamics</th>\n",
       "      <th>rained</th>\n",
       "      <th>month_1</th>\n",
       "      <th>month_2</th>\n",
       "      <th>month_3</th>\n",
       "      <th>month_4</th>\n",
       "      <th>month_5</th>\n",
       "      <th>month_6</th>\n",
       "      <th>month_7</th>\n",
       "      <th>month_8</th>\n",
       "      <th>month_9</th>\n",
       "      <th>month_10</th>\n",
       "      <th>month_11</th>\n",
       "      <th>month_12</th>\n",
       "    </tr>\n",
       "  </thead>\n",
       "  <tbody>\n",
       "    <tr>\n",
       "      <th>0</th>\n",
       "      <td>2008-01-07</td>\n",
       "      <td>175.0</td>\n",
       "      <td>86.499196</td>\n",
       "      <td>57.931008</td>\n",
       "      <td>-6.902578</td>\n",
       "      <td>-0.314079</td>\n",
       "      <td>938.737374</td>\n",
       "      <td>51.698735</td>\n",
       "      <td>1</td>\n",
       "      <td>1</td>\n",
       "      <td>0</td>\n",
       "      <td>0</td>\n",
       "      <td>0</td>\n",
       "      <td>0</td>\n",
       "      <td>0</td>\n",
       "      <td>0</td>\n",
       "      <td>0</td>\n",
       "      <td>0</td>\n",
       "      <td>0</td>\n",
       "      <td>0</td>\n",
       "      <td>0</td>\n",
       "    </tr>\n",
       "    <tr>\n",
       "      <th>1</th>\n",
       "      <td>2008-01-09</td>\n",
       "      <td>173.0</td>\n",
       "      <td>86.168358</td>\n",
       "      <td>54.514297</td>\n",
       "      <td>-3.278000</td>\n",
       "      <td>0.458702</td>\n",
       "      <td>926.737374</td>\n",
       "      <td>51.078540</td>\n",
       "      <td>0</td>\n",
       "      <td>1</td>\n",
       "      <td>0</td>\n",
       "      <td>0</td>\n",
       "      <td>0</td>\n",
       "      <td>0</td>\n",
       "      <td>0</td>\n",
       "      <td>0</td>\n",
       "      <td>0</td>\n",
       "      <td>0</td>\n",
       "      <td>0</td>\n",
       "      <td>0</td>\n",
       "      <td>0</td>\n",
       "    </tr>\n",
       "    <tr>\n",
       "      <th>2</th>\n",
       "      <td>2008-01-10</td>\n",
       "      <td>172.0</td>\n",
       "      <td>79.143281</td>\n",
       "      <td>57.851667</td>\n",
       "      <td>-3.922668</td>\n",
       "      <td>-0.298095</td>\n",
       "      <td>939.977719</td>\n",
       "      <td>50.557384</td>\n",
       "      <td>0</td>\n",
       "      <td>1</td>\n",
       "      <td>0</td>\n",
       "      <td>0</td>\n",
       "      <td>0</td>\n",
       "      <td>0</td>\n",
       "      <td>0</td>\n",
       "      <td>0</td>\n",
       "      <td>0</td>\n",
       "      <td>0</td>\n",
       "      <td>0</td>\n",
       "      <td>0</td>\n",
       "      <td>0</td>\n",
       "    </tr>\n",
       "  </tbody>\n",
       "</table>\n",
       "</div>"
      ],
      "text/plain": [
       "        date  Seasonality  Lower level humidity  ...  month_10  month_11  month_12\n",
       "0 2008-01-07        175.0             86.499196  ...         0         0         0\n",
       "1 2008-01-09        173.0             86.168358  ...         0         0         0\n",
       "2 2008-01-10        172.0             79.143281  ...         0         0         0\n",
       "\n",
       "[3 rows x 21 columns]"
      ]
     },
     "execution_count": 9,
     "metadata": {},
     "output_type": "execute_result"
    }
   ],
   "source": [
    "df.head(3)"
   ]
  },
  {
   "cell_type": "code",
   "execution_count": null,
   "metadata": {
    "colab": {
     "base_uri": "https://localhost:8080/"
    },
    "id": "lL185jMH1XW8",
    "outputId": "860ba817-b4b8-482b-ccb7-4a5c88f5bfa6"
   },
   "outputs": [
    {
     "data": {
      "text/plain": [
       "(2086, 21)"
      ]
     },
     "execution_count": 10,
     "metadata": {},
     "output_type": "execute_result"
    }
   ],
   "source": [
    "df.shape"
   ]
  },
  {
   "cell_type": "code",
   "execution_count": null,
   "metadata": {
    "colab": {
     "base_uri": "https://localhost:8080/"
    },
    "id": "0DvZ3VzX1XaZ",
    "outputId": "b6d40643-7c60-4545-8e58-17acbec189f7"
   },
   "outputs": [
    {
     "data": {
      "text/plain": [
       "((1773, 8), (1773,))"
      ]
     },
     "execution_count": 11,
     "metadata": {},
     "output_type": "execute_result"
    }
   ],
   "source": [
    "X_train.shape, y_train.shape"
   ]
  },
  {
   "cell_type": "markdown",
   "metadata": {
    "id": "UFqELQJZ1j2E"
   },
   "source": [
    "**Model Building**"
   ]
  },
  {
   "cell_type": "code",
   "execution_count": null,
   "metadata": {
    "colab": {
     "base_uri": "https://localhost:8080/"
    },
    "id": "9PNw-1ki1m9Q",
    "outputId": "3937c112-0aa3-4044-db3f-4dfb9f5bc17a"
   },
   "outputs": [
    {
     "name": "stdout",
     "output_type": "stream",
     "text": [
      "[1]\tvalid_0's auc: 0.835185\tvalid_0's binary_logloss: 0.617826\n",
      "Training until validation scores don't improve for 100 rounds.\n",
      "[2]\tvalid_0's auc: 0.858393\tvalid_0's binary_logloss: 0.587035\n",
      "[3]\tvalid_0's auc: 0.866526\tvalid_0's binary_logloss: 0.560977\n",
      "[4]\tvalid_0's auc: 0.865997\tvalid_0's binary_logloss: 0.539338\n",
      "[5]\tvalid_0's auc: 0.864322\tvalid_0's binary_logloss: 0.524247\n",
      "[6]\tvalid_0's auc: 0.865335\tvalid_0's binary_logloss: 0.510195\n",
      "[7]\tvalid_0's auc: 0.869832\tvalid_0's binary_logloss: 0.497752\n",
      "[8]\tvalid_0's auc: 0.871242\tvalid_0's binary_logloss: 0.486936\n",
      "[9]\tvalid_0's auc: 0.871507\tvalid_0's binary_logloss: 0.478341\n",
      "[10]\tvalid_0's auc: 0.872653\tvalid_0's binary_logloss: 0.470162\n",
      "[11]\tvalid_0's auc: 0.87208\tvalid_0's binary_logloss: 0.465133\n",
      "[12]\tvalid_0's auc: 0.872146\tvalid_0's binary_logloss: 0.460417\n",
      "[13]\tvalid_0's auc: 0.872124\tvalid_0's binary_logloss: 0.457487\n",
      "[14]\tvalid_0's auc: 0.871154\tvalid_0's binary_logloss: 0.454191\n",
      "[15]\tvalid_0's auc: 0.870493\tvalid_0's binary_logloss: 0.451686\n",
      "[16]\tvalid_0's auc: 0.871\tvalid_0's binary_logloss: 0.449828\n",
      "[17]\tvalid_0's auc: 0.870581\tvalid_0's binary_logloss: 0.447404\n",
      "[18]\tvalid_0's auc: 0.872344\tvalid_0's binary_logloss: 0.444027\n",
      "[19]\tvalid_0's auc: 0.871815\tvalid_0's binary_logloss: 0.443006\n",
      "[20]\tvalid_0's auc: 0.869876\tvalid_0's binary_logloss: 0.443076\n",
      "[21]\tvalid_0's auc: 0.871154\tvalid_0's binary_logloss: 0.442404\n",
      "[22]\tvalid_0's auc: 0.869303\tvalid_0's binary_logloss: 0.441708\n",
      "[23]\tvalid_0's auc: 0.867584\tvalid_0's binary_logloss: 0.44291\n",
      "[24]\tvalid_0's auc: 0.867319\tvalid_0's binary_logloss: 0.443815\n",
      "[25]\tvalid_0's auc: 0.866437\tvalid_0's binary_logloss: 0.443942\n",
      "[26]\tvalid_0's auc: 0.865424\tvalid_0's binary_logloss: 0.444924\n",
      "[27]\tvalid_0's auc: 0.865027\tvalid_0's binary_logloss: 0.445248\n",
      "[28]\tvalid_0's auc: 0.863749\tvalid_0's binary_logloss: 0.447042\n",
      "[29]\tvalid_0's auc: 0.861677\tvalid_0's binary_logloss: 0.447937\n",
      "[30]\tvalid_0's auc: 0.861368\tvalid_0's binary_logloss: 0.449006\n",
      "[31]\tvalid_0's auc: 0.861368\tvalid_0's binary_logloss: 0.449968\n",
      "[32]\tvalid_0's auc: 0.861633\tvalid_0's binary_logloss: 0.450043\n",
      "[33]\tvalid_0's auc: 0.859252\tvalid_0's binary_logloss: 0.452733\n",
      "[34]\tvalid_0's auc: 0.859781\tvalid_0's binary_logloss: 0.45207\n",
      "[35]\tvalid_0's auc: 0.859781\tvalid_0's binary_logloss: 0.453385\n",
      "[36]\tvalid_0's auc: 0.858194\tvalid_0's binary_logloss: 0.455848\n",
      "[37]\tvalid_0's auc: 0.858635\tvalid_0's binary_logloss: 0.456873\n",
      "[38]\tvalid_0's auc: 0.857974\tvalid_0's binary_logloss: 0.458687\n",
      "[39]\tvalid_0's auc: 0.858062\tvalid_0's binary_logloss: 0.459051\n",
      "[40]\tvalid_0's auc: 0.856916\tvalid_0's binary_logloss: 0.460188\n",
      "[41]\tvalid_0's auc: 0.857357\tvalid_0's binary_logloss: 0.459812\n",
      "[42]\tvalid_0's auc: 0.857621\tvalid_0's binary_logloss: 0.460261\n",
      "[43]\tvalid_0's auc: 0.857269\tvalid_0's binary_logloss: 0.460721\n",
      "[44]\tvalid_0's auc: 0.857004\tvalid_0's binary_logloss: 0.461046\n",
      "[45]\tvalid_0's auc: 0.857533\tvalid_0's binary_logloss: 0.46006\n",
      "[46]\tvalid_0's auc: 0.857798\tvalid_0's binary_logloss: 0.459525\n",
      "[47]\tvalid_0's auc: 0.858812\tvalid_0's binary_logloss: 0.458676\n",
      "[48]\tvalid_0's auc: 0.858547\tvalid_0's binary_logloss: 0.459\n",
      "[49]\tvalid_0's auc: 0.859341\tvalid_0's binary_logloss: 0.458967\n",
      "[50]\tvalid_0's auc: 0.859076\tvalid_0's binary_logloss: 0.459445\n",
      "[51]\tvalid_0's auc: 0.859914\tvalid_0's binary_logloss: 0.457917\n",
      "[52]\tvalid_0's auc: 0.859517\tvalid_0's binary_logloss: 0.458162\n",
      "[53]\tvalid_0's auc: 0.858679\tvalid_0's binary_logloss: 0.458554\n",
      "[54]\tvalid_0's auc: 0.859341\tvalid_0's binary_logloss: 0.458478\n",
      "[55]\tvalid_0's auc: 0.858371\tvalid_0's binary_logloss: 0.460196\n",
      "[56]\tvalid_0's auc: 0.858327\tvalid_0's binary_logloss: 0.461318\n",
      "[57]\tvalid_0's auc: 0.859164\tvalid_0's binary_logloss: 0.460402\n",
      "[58]\tvalid_0's auc: 0.860046\tvalid_0's binary_logloss: 0.459454\n",
      "[59]\tvalid_0's auc: 0.859693\tvalid_0's binary_logloss: 0.461114\n",
      "[60]\tvalid_0's auc: 0.858856\tvalid_0's binary_logloss: 0.461844\n",
      "[61]\tvalid_0's auc: 0.858591\tvalid_0's binary_logloss: 0.462593\n",
      "[62]\tvalid_0's auc: 0.858459\tvalid_0's binary_logloss: 0.464488\n",
      "[63]\tvalid_0's auc: 0.858591\tvalid_0's binary_logloss: 0.464568\n",
      "[64]\tvalid_0's auc: 0.858415\tvalid_0's binary_logloss: 0.465633\n",
      "[65]\tvalid_0's auc: 0.857445\tvalid_0's binary_logloss: 0.468197\n",
      "[66]\tvalid_0's auc: 0.857137\tvalid_0's binary_logloss: 0.470091\n",
      "[67]\tvalid_0's auc: 0.857489\tvalid_0's binary_logloss: 0.470846\n",
      "[68]\tvalid_0's auc: 0.857666\tvalid_0's binary_logloss: 0.471687\n",
      "[69]\tvalid_0's auc: 0.856167\tvalid_0's binary_logloss: 0.474658\n",
      "[70]\tvalid_0's auc: 0.856299\tvalid_0's binary_logloss: 0.475105\n",
      "[71]\tvalid_0's auc: 0.855417\tvalid_0's binary_logloss: 0.476422\n",
      "[72]\tvalid_0's auc: 0.85599\tvalid_0's binary_logloss: 0.476194\n",
      "[73]\tvalid_0's auc: 0.855197\tvalid_0's binary_logloss: 0.477309\n",
      "[74]\tvalid_0's auc: 0.854977\tvalid_0's binary_logloss: 0.477761\n",
      "[75]\tvalid_0's auc: 0.854227\tvalid_0's binary_logloss: 0.479906\n",
      "[76]\tvalid_0's auc: 0.854712\tvalid_0's binary_logloss: 0.47986\n",
      "[77]\tvalid_0's auc: 0.854271\tvalid_0's binary_logloss: 0.480874\n",
      "[78]\tvalid_0's auc: 0.854315\tvalid_0's binary_logloss: 0.481227\n",
      "[79]\tvalid_0's auc: 0.854139\tvalid_0's binary_logloss: 0.481742\n",
      "[80]\tvalid_0's auc: 0.853566\tvalid_0's binary_logloss: 0.483782\n",
      "[81]\tvalid_0's auc: 0.854448\tvalid_0's binary_logloss: 0.484069\n",
      "[82]\tvalid_0's auc: 0.854712\tvalid_0's binary_logloss: 0.4848\n",
      "[83]\tvalid_0's auc: 0.85577\tvalid_0's binary_logloss: 0.484133\n",
      "[84]\tvalid_0's auc: 0.855506\tvalid_0's binary_logloss: 0.483167\n",
      "[85]\tvalid_0's auc: 0.855021\tvalid_0's binary_logloss: 0.484802\n",
      "[86]\tvalid_0's auc: 0.855065\tvalid_0's binary_logloss: 0.486227\n",
      "[87]\tvalid_0's auc: 0.855285\tvalid_0's binary_logloss: 0.485651\n",
      "[88]\tvalid_0's auc: 0.855021\tvalid_0's binary_logloss: 0.486146\n",
      "[89]\tvalid_0's auc: 0.854315\tvalid_0's binary_logloss: 0.487959\n",
      "[90]\tvalid_0's auc: 0.854404\tvalid_0's binary_logloss: 0.488625\n",
      "[91]\tvalid_0's auc: 0.854227\tvalid_0's binary_logloss: 0.48952\n",
      "[92]\tvalid_0's auc: 0.853875\tvalid_0's binary_logloss: 0.490754\n",
      "[93]\tvalid_0's auc: 0.853875\tvalid_0's binary_logloss: 0.490682\n",
      "[94]\tvalid_0's auc: 0.853566\tvalid_0's binary_logloss: 0.492512\n",
      "[95]\tvalid_0's auc: 0.853169\tvalid_0's binary_logloss: 0.494053\n",
      "[96]\tvalid_0's auc: 0.852729\tvalid_0's binary_logloss: 0.494756\n",
      "[97]\tvalid_0's auc: 0.852729\tvalid_0's binary_logloss: 0.495935\n",
      "[98]\tvalid_0's auc: 0.852861\tvalid_0's binary_logloss: 0.496988\n",
      "[99]\tvalid_0's auc: 0.852684\tvalid_0's binary_logloss: 0.49842\n",
      "[100]\tvalid_0's auc: 0.852993\tvalid_0's binary_logloss: 0.498644\n",
      "[101]\tvalid_0's auc: 0.852156\tvalid_0's binary_logloss: 0.499452\n",
      "[102]\tvalid_0's auc: 0.85242\tvalid_0's binary_logloss: 0.500529\n",
      "[103]\tvalid_0's auc: 0.851803\tvalid_0's binary_logloss: 0.501574\n",
      "[104]\tvalid_0's auc: 0.851847\tvalid_0's binary_logloss: 0.502981\n",
      "[105]\tvalid_0's auc: 0.851759\tvalid_0's binary_logloss: 0.503506\n",
      "[106]\tvalid_0's auc: 0.852508\tvalid_0's binary_logloss: 0.503199\n",
      "[107]\tvalid_0's auc: 0.851671\tvalid_0's binary_logloss: 0.505915\n",
      "[108]\tvalid_0's auc: 0.852332\tvalid_0's binary_logloss: 0.506059\n",
      "[109]\tvalid_0's auc: 0.852993\tvalid_0's binary_logloss: 0.505467\n",
      "[110]\tvalid_0's auc: 0.853169\tvalid_0's binary_logloss: 0.504364\n",
      "Early stopping, best iteration is:\n",
      "[10]\tvalid_0's auc: 0.872653\tvalid_0's binary_logloss: 0.470162\n"
     ]
    },
    {
     "data": {
      "text/plain": [
       "LGBMClassifier(boosting='gbdt', n_estimators=1000, objective='binary',\n",
       "               random_state=123)"
      ]
     },
     "execution_count": 12,
     "metadata": {},
     "output_type": "execute_result"
    }
   ],
   "source": [
    "lgbm_clf = lgbm.LGBMClassifier(objective= \"binary\", \n",
    "                               n_estimators=1000, \n",
    "                               #learning_rate = 0.1,\n",
    "                               boosting = \"gbdt\",\n",
    "                               random_state=123)\n",
    "\n",
    "\n",
    "lgbm_clf.fit(\n",
    "    X_train,\n",
    "    y_train,\n",
    "    eval_set=[(X_test, y_test)],\n",
    "    early_stopping_rounds = 100,\n",
    "    #eval_metric = \"binary_logloss\",\n",
    "    eval_metric= ['auc', 'accuracy']\n",
    ")"
   ]
  },
  {
   "cell_type": "code",
   "execution_count": null,
   "metadata": {
    "id": "yXEh869T1nAz"
   },
   "outputs": [],
   "source": [
    "# determine best accuracy for test set\n",
    "preds = lgbm_clf.predict(X_test)\n",
    "test_acc = accuracy_score(preds, y_test)"
   ]
  },
  {
   "cell_type": "code",
   "execution_count": null,
   "metadata": {
    "colab": {
     "base_uri": "https://localhost:8080/"
    },
    "id": "sM1nnsNy1nER",
    "outputId": "61f40f31-577d-4603-f678-0a2238ee4b7b"
   },
   "outputs": [
    {
     "name": "stdout",
     "output_type": "stream",
     "text": [
      "AUC Train :0.8235\n",
      "AUC Test: 0.7461\n"
     ]
    }
   ],
   "source": [
    "train_y_pred = lgbm_clf.predict(X_train)\n",
    "test_y_pred = lgbm_clf.predict(X_test)\n",
    "print(\"AUC Train :{:.4f}\\nAUC Test: {:.4f}\".format(roc_auc_score(y_train,train_y_pred),\n",
    "                                                    roc_auc_score(y_test,test_y_pred)))"
   ]
  },
  {
   "cell_type": "code",
   "execution_count": null,
   "metadata": {
    "colab": {
     "base_uri": "https://localhost:8080/"
    },
    "id": "ihpyeFwB1nHS",
    "outputId": "14dfda73-bf95-4384-892b-58850193b4e8"
   },
   "outputs": [
    {
     "name": "stdout",
     "output_type": "stream",
     "text": [
      "The test accuracy is :0.789137\n"
     ]
    }
   ],
   "source": [
    "print('The test accuracy is :{:.6f}'.format(accuracy_score(y_test,lgbm_clf.predict(X_test))))"
   ]
  },
  {
   "cell_type": "code",
   "execution_count": null,
   "metadata": {
    "colab": {
     "base_uri": "https://localhost:8080/"
    },
    "id": "QPb3-ShU7ckr",
    "outputId": "41d91e53-cfa5-4797-c9bf-4f1c4ee02a2a"
   },
   "outputs": [
    {
     "name": "stdout",
     "output_type": "stream",
     "text": [
      "accuracy : 0.789137\n"
     ]
    }
   ],
   "source": [
    "accuracy = float(np.sum(preds==y_test))/y_test.shape[0]\n",
    "print(\"accuracy : %f\"%(accuracy))"
   ]
  }
 ],
 "metadata": {
  "colab": {
   "name": "LightGBM_DerivedDataset_final.ipynb",
   "provenance": []
  },
  "kernelspec": {
   "display_name": "Python 3 (ipykernel)",
   "language": "python",
   "name": "python3"
  },
  "language_info": {
   "codemirror_mode": {
    "name": "ipython",
    "version": 3
   },
   "file_extension": ".py",
   "mimetype": "text/x-python",
   "name": "python",
   "nbconvert_exporter": "python",
   "pygments_lexer": "ipython3",
   "version": "3.9.12"
  }
 },
 "nbformat": 4,
 "nbformat_minor": 1
}
