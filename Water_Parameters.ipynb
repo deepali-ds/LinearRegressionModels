{
 "cells": [
  {
   "cell_type": "code",
   "execution_count": null,
   "metadata": {
    "colab": {
     "base_uri": "https://localhost:8080/"
    },
    "id": "92GCdXS-_EqP",
    "outputId": "e7c6f01f-def4-4c1b-a990-6660bb251913"
   },
   "outputs": [
    {
     "name": "stdout",
     "output_type": "stream",
     "text": [
      "geemap package is not installed. Installing ...\n"
     ]
    }
   ],
   "source": [
    "# Check geemap installation\n",
    "import subprocess\n",
    "\n",
    "try:\n",
    "    import geemap\n",
    "except ImportError:\n",
    "    print('geemap package is not installed. Installing ...')\n",
    "    subprocess.check_call([\"python\", '-m', 'pip', 'install', 'geemap'])"
   ]
  },
  {
   "cell_type": "code",
   "execution_count": null,
   "metadata": {
    "id": "VXrpNAR8_0vr"
   },
   "outputs": [],
   "source": [
    "# Import libraries\n",
    "import os\n",
    "import ee\n",
    "import ee.mapclient\n",
    "import geemap\n",
    "import ipywidgets as widgets\n",
    "from bqplot import pyplot as plt\n",
    "from ipyleaflet import WidgetControl"
   ]
  },
  {
   "cell_type": "code",
   "execution_count": 1,
   "metadata": {
    "colab": {
     "base_uri": "https://localhost:8080/"
    },
    "id": "MV9Qa8PN_6pl",
    "outputId": "f5f6e478-4de6-474a-f80f-65da682027d5"
   },
   "outputs": [],
   "source": [
    "#ee.Authenticate()"
   ]
  },
  {
   "cell_type": "code",
   "execution_count": null,
   "metadata": {
    "id": "ySf5P1UFAExZ"
   },
   "outputs": [],
   "source": [
    "ee.Initialize()"
   ]
  },
  {
   "cell_type": "markdown",
   "metadata": {
    "id": "wL13NZ0JWbRW"
   },
   "source": [
    "### Getting the region of interest \n",
    "1. boundary of the Lake using the line tool \n",
    "2. use draw_last_feature.geometry() to get the region from the map and get it's info for coordinates "
   ]
  },
  {
   "cell_type": "code",
   "execution_count": null,
   "metadata": {
    "colab": {
     "base_uri": "https://localhost:8080/",
     "height": 621,
     "referenced_widgets": [
      "b355f74cd4264649bd267a9b4a45ea65",
      "3bc33fb3e4f0481aade6278393e0617e",
      "ba5dd4ecb6184d248422a1ed11ccc439",
      "3ba923d024b9436c85da5b7e32e9a0f3",
      "0c125ce7d0be408db2fc7fa1dc758b85",
      "dee6aed623aa40beb82b03277c2e830e",
      "b99a3c2c82c1422183bbe489865673ac",
      "e77952daa5114a6dbc355f79d0c4925e",
      "d40a68d12407414dbc2204ca20737fdd",
      "ac1c64637ccc45f48e3460a56c829213",
      "bb721b64fdcd4365b032c9cdd1a2fe6a",
      "ea1a31a06e684207be26ce78833f5449",
      "297b67f3f5b84dabadfe9374f7e0ec9d",
      "aaa4889b90e4456490d59e2e8fa433a4",
      "4b3d2387a4a341b49129dac29029b0eb",
      "0d8647b54cb54d068391abb0417bc446",
      "3dbbf99bf0dd4522ace6264a1efb1097",
      "be25a3972c284d03b54de74ce5d9a7cd",
      "c1b455af7c9f4ada86c6fe686d33c88d",
      "3319fa2312c04ad38a924bf15f4b47a5",
      "920fc696ab874f048288b55242a8b6e6",
      "b6f9a99a9cfa4ea2aab84dd3eb31ea1e",
      "d652531d6d7441e8bfc7b3067215045f",
      "12bfe982f825454abd22f3ae74251f99",
      "37e0f5e00e70435abd9ed6b3554bb8b3",
      "e7a1ece4466a4dffb6062e059c3e279c",
      "1b94f31f0f924e2fb20f8482a89f928c",
      "5428138bda944e958c47bfe44a35bd89",
      "bd85faf3f0614115aaba4b7d78c3b1e9",
      "e8e4e1a7e44f484ebfd8f60914175b7f",
      "457004326dc242b384e5c8a659276247",
      "2d3c678084b8473abaec3f09187db091",
      "fdbc5fee9c3e401d973a39920fa4bfa2",
      "3ff5a491eb7f46ee9000a217407e8d43",
      "cd8b3dac22ef4563a99d4501c9b5d7e2",
      "a5398250ea5b4bbd809891878e4969fe",
      "e6f60c9c47234038b1b1e35a7aaa406b",
      "3021743f40aa4b25ab4baeccec695133",
      "a9e50fd582db49fa9056558d1160ee93",
      "9b34fa9536514db9bacb10594ef8ee59",
      "dc55614de5434830892f315002d8e3bc",
      "89a34d08a88246b5a6cc25374bd92c2b",
      "7720daeeb05f4b248bdbbe8411905859",
      "f54c2d6817104c0d861984a8c4268688",
      "f866b92238424f2aa1f5a4db16fa4105",
      "ee019454536b4378995d343560454625",
      "fe1d6a49981e46e3827037c980e408de",
      "eac8866e5bc9439588eb6f2bcb328b00",
      "8b88675ba4f5483b8e5b3502fbf768e3",
      "be295f065a874a3991ba27ae1272b21d",
      "1432ccf5b1a143819f1747071af9fbea",
      "20f7b002b7f042049817d44e2bbad0ce"
     ]
    },
    "id": "LmqdfgTQAGpK",
    "outputId": "86e40cf4-970f-4c5d-bf4c-2d053d024952"
   },
   "outputs": [
    {
     "data": {
      "application/vnd.jupyter.widget-view+json": {
       "model_id": "b355f74cd4264649bd267a9b4a45ea65",
       "version_major": 2,
       "version_minor": 0
      },
      "text/plain": [
       "Map(center=[20, 0], controls=(WidgetControl(options=['position', 'transparent_bg'], widget=HBox(children=(Togg…"
      ]
     },
     "metadata": {
      "application/vnd.jupyter.widget-view+json": {
       "colab": {
        "custom_widget_manager": {
         "url": "https://ssl.gstatic.com/colaboratory-static/widgets/colab-cdn-widget-manager/a8874ba6619b6106/manager.min.js"
        }
       }
      }
     },
     "output_type": "display_data"
    }
   ],
   "source": [
    "Map = geemap.Map()\n",
    "Map"
   ]
  },
  {
   "cell_type": "code",
   "execution_count": null,
   "metadata": {
    "colab": {
     "base_uri": "https://localhost:8080/"
    },
    "id": "i61c2e-6ELYk",
    "outputId": "8096c341-595f-4751-f2f6-a08894f8f931"
   },
   "outputs": [
    {
     "data": {
      "text/plain": [
       "{'coordinates': [[[69.656067, 22.375476],\n",
       "   [69.656067, 23.104997],\n",
       "   [70.515747, 23.104997],\n",
       "   [70.515747, 22.375476],\n",
       "   [69.656067, 22.375476]]],\n",
       " 'geodesic': False,\n",
       " 'type': 'Polygon'}"
      ]
     },
     "execution_count": 81,
     "metadata": {},
     "output_type": "execute_result"
    }
   ],
   "source": [
    "# Draw any shapes on the map using the Drawing tools before executing this code block -> Border \n",
    "feature = Map.draw_last_feature\n",
    "roi = feature.geometry()\n",
    "roi.getInfo()"
   ]
  },
  {
   "cell_type": "markdown",
   "metadata": {
    "id": "-LpxR_5cZEz0"
   },
   "source": [
    "Just to store the initial lake co-ordinates output : \n",
    "{'coordinates': [[69.662268, 23.254555],\n",
    "  [69.663255, 23.254398],\n",
    "  [69.66495, 23.254969],\n",
    "  [69.666152, 23.25493],\n",
    "  [69.668019, 23.253511],\n",
    "  [69.667525, 23.252249],\n",
    "  [69.666753, 23.251086],\n",
    "  [69.666646, 23.25008],\n",
    "  [69.665422, 23.248247],\n",
    "  [69.663813, 23.249035],\n",
    "  [69.663427, 23.248444],\n",
    "  [69.663835, 23.248089],\n",
    "  [69.660509, 23.245526],\n",
    "  [69.65847, 23.247616],\n",
    "  [69.658535, 23.248503],\n",
    "  [69.660358, 23.250297],\n",
    "  [69.660981, 23.250593],\n",
    "  [69.660959, 23.251046],\n",
    "  [69.661582, 23.251815],\n",
    "  [69.662054, 23.252269],\n",
    "  [69.662569, 23.253471],\n",
    "  [69.662161, 23.254615]],\n",
    " 'geodesic': False,\n",
    " 'type': 'LineString'}"
   ]
  },
  {
   "cell_type": "code",
   "execution_count": null,
   "metadata": {
    "id": "q41mXXluFExB"
   },
   "outputs": [],
   "source": [
    "IMG = ee.ImageCollection(\"COPERNICUS/S2\").filterBounds(roi).sort('CLOUDY_PIXEL_PERCENTAGE',True).first().clip(roi)"
   ]
  },
  {
   "cell_type": "markdown",
   "metadata": {
    "id": "ysfeYEqMZTY8"
   },
   "source": [
    "Adding the border as a layer on the map so that it is always visualised whenever we print the map"
   ]
  },
  {
   "cell_type": "code",
   "execution_count": null,
   "metadata": {
    "colab": {
     "base_uri": "https://localhost:8080/",
     "height": 621,
     "referenced_widgets": [
      "b355f74cd4264649bd267a9b4a45ea65",
      "ea1a31a06e684207be26ce78833f5449",
      "ba5dd4ecb6184d248422a1ed11ccc439",
      "3ba923d024b9436c85da5b7e32e9a0f3",
      "0c125ce7d0be408db2fc7fa1dc758b85",
      "dee6aed623aa40beb82b03277c2e830e",
      "b99a3c2c82c1422183bbe489865673ac",
      "e77952daa5114a6dbc355f79d0c4925e",
      "d40a68d12407414dbc2204ca20737fdd",
      "ac1c64637ccc45f48e3460a56c829213",
      "bb721b64fdcd4365b032c9cdd1a2fe6a",
      "297b67f3f5b84dabadfe9374f7e0ec9d",
      "aaa4889b90e4456490d59e2e8fa433a4",
      "e7a1ece4466a4dffb6062e059c3e279c",
      "5428138bda944e958c47bfe44a35bd89",
      "eac8866e5bc9439588eb6f2bcb328b00",
      "8b88675ba4f5483b8e5b3502fbf768e3",
      "be295f065a874a3991ba27ae1272b21d",
      "1432ccf5b1a143819f1747071af9fbea",
      "20f7b002b7f042049817d44e2bbad0ce",
      "4b3d2387a4a341b49129dac29029b0eb",
      "0d8647b54cb54d068391abb0417bc446",
      "3dbbf99bf0dd4522ace6264a1efb1097",
      "be25a3972c284d03b54de74ce5d9a7cd",
      "c1b455af7c9f4ada86c6fe686d33c88d",
      "3319fa2312c04ad38a924bf15f4b47a5",
      "920fc696ab874f048288b55242a8b6e6",
      "b6f9a99a9cfa4ea2aab84dd3eb31ea1e",
      "d652531d6d7441e8bfc7b3067215045f",
      "12bfe982f825454abd22f3ae74251f99",
      "37e0f5e00e70435abd9ed6b3554bb8b3"
     ]
    },
    "id": "H8wY6Q3fYqQ8",
    "outputId": "5f6f3316-959d-4fac-d058-a9b1be85bb57"
   },
   "outputs": [
    {
     "data": {
      "application/vnd.jupyter.widget-view+json": {
       "model_id": "b355f74cd4264649bd267a9b4a45ea65",
       "version_major": 2,
       "version_minor": 0
      },
      "text/plain": [
       "Map(bottom=57282.0, center=[22.413567638369805, 70.64208984375001], controls=(WidgetControl(options=['position…"
      ]
     },
     "metadata": {
      "application/vnd.jupyter.widget-view+json": {
       "colab": {
        "custom_widget_manager": {
         "url": "https://ssl.gstatic.com/colaboratory-static/widgets/colab-cdn-widget-manager/a8874ba6619b6106/manager.min.js"
        }
       }
      }
     },
     "output_type": "display_data"
    }
   ],
   "source": [
    "Map.addLayer(roi, {}, \"Selected region\")\n",
    "Map"
   ]
  },
  {
   "cell_type": "code",
   "execution_count": null,
   "metadata": {
    "id": "mcjLRjM9ZjwY"
   },
   "outputs": [],
   "source": [
    "#IMG = ee.ImageCollection(\"COPERNICUS/S2_SR\").filterBounds(roi).sort('CLOUDY_PIXEL_PERCENTAGE',True).first().clip(roi)\n",
    "\n",
    "def ndwi_f(img):\n",
    "  #water mask\n",
    "  ndwi = img.normalizedDifference(['B3', 'B8']).rename('NDWI');\n",
    "  return img.addBands(ndwi).updateMask(ndwi.gt(0))\n",
    "\n",
    "def mndwi_f(img):\n",
    "  #water mask\n",
    "  mndwi1 = img.normalizedDifference(['B3', 'B11']).rename('MNDWI1');\n",
    "  return img.addBands(mndwi1).updateMask(mndwi1.gt(0))\n",
    "\n",
    "def ndci_f(img):\n",
    "  #water mask\n",
    "  ndci = img.normalizedDifference(['B5', 'B4']).rename('NDCI');\n",
    "  return img.addBands(ndci)\n",
    "\n",
    "IMG_water = ndwi_f(IMG)\n",
    "IMG_water = mndwi_f(IMG_water)\n",
    "IMG_NDCI = ndci_f(IMG_water)\n",
    "\n",
    "viz = {'min':0.1,'max':0.4,'palette':['cyan','orange','red']}\n",
    "Map.addLayer(IMG,{'bands':['B4','B3','B2'],min:0,max:3500},'IMG')\n",
    "Map.addLayer(IMG_water.select('NDWI'),{'palette':['cyan']},\"IMG_water_NDWI\")\n",
    "Map.addLayer(IMG_water.select('MNDWI1'),{'palette':['cyan']},\"IMG_water_MNDWI1\")\n",
    "Map.addLayer(IMG_NDCI.select('NDCI'),viz,\"IMG_NDCI\")\n",
    "\n"
   ]
  },
  {
   "cell_type": "code",
   "execution_count": null,
   "metadata": {
    "colab": {
     "base_uri": "https://localhost:8080/",
     "height": 621,
     "referenced_widgets": [
      "b355f74cd4264649bd267a9b4a45ea65",
      "ea1a31a06e684207be26ce78833f5449",
      "ba5dd4ecb6184d248422a1ed11ccc439",
      "3ba923d024b9436c85da5b7e32e9a0f3",
      "0c125ce7d0be408db2fc7fa1dc758b85",
      "dee6aed623aa40beb82b03277c2e830e",
      "b99a3c2c82c1422183bbe489865673ac",
      "e77952daa5114a6dbc355f79d0c4925e",
      "d40a68d12407414dbc2204ca20737fdd",
      "ac1c64637ccc45f48e3460a56c829213",
      "bb721b64fdcd4365b032c9cdd1a2fe6a",
      "297b67f3f5b84dabadfe9374f7e0ec9d",
      "aaa4889b90e4456490d59e2e8fa433a4",
      "e7a1ece4466a4dffb6062e059c3e279c",
      "5428138bda944e958c47bfe44a35bd89",
      "eac8866e5bc9439588eb6f2bcb328b00",
      "8b88675ba4f5483b8e5b3502fbf768e3",
      "be295f065a874a3991ba27ae1272b21d",
      "1432ccf5b1a143819f1747071af9fbea",
      "4b3d2387a4a341b49129dac29029b0eb",
      "0d8647b54cb54d068391abb0417bc446",
      "3dbbf99bf0dd4522ace6264a1efb1097",
      "be25a3972c284d03b54de74ce5d9a7cd",
      "c1b455af7c9f4ada86c6fe686d33c88d",
      "3319fa2312c04ad38a924bf15f4b47a5",
      "920fc696ab874f048288b55242a8b6e6",
      "b6f9a99a9cfa4ea2aab84dd3eb31ea1e",
      "d652531d6d7441e8bfc7b3067215045f",
      "12bfe982f825454abd22f3ae74251f99",
      "37e0f5e00e70435abd9ed6b3554bb8b3",
      "20f7b002b7f042049817d44e2bbad0ce"
     ]
    },
    "id": "MvoMkya_YPDs",
    "outputId": "04863de9-5f61-413c-b137-9d27c3a7f71e"
   },
   "outputs": [
    {
     "data": {
      "application/vnd.jupyter.widget-view+json": {
       "model_id": "b355f74cd4264649bd267a9b4a45ea65",
       "version_major": 2,
       "version_minor": 0
      },
      "text/plain": [
       "Map(bottom=57282.0, center=[22.862256424791948, 430.50750732421875], controls=(WidgetControl(options=['positio…"
      ]
     },
     "metadata": {
      "application/vnd.jupyter.widget-view+json": {
       "colab": {
        "custom_widget_manager": {
         "url": "https://ssl.gstatic.com/colaboratory-static/widgets/colab-cdn-widget-manager/a8874ba6619b6106/manager.min.js"
        }
       }
      }
     },
     "output_type": "display_data"
    }
   ],
   "source": [
    "Map"
   ]
  },
  {
   "cell_type": "code",
   "execution_count": null,
   "metadata": {
    "colab": {
     "base_uri": "https://localhost:8080/"
    },
    "id": "APdN2v45qAcS",
    "outputId": "b1b206b2-c699-44e3-860f-25d6fc4c5e1f"
   },
   "outputs": [
    {
     "data": {
      "text/plain": [
       "<ee.image.Image at 0x7f7c51029d10>"
      ]
     },
     "execution_count": 102,
     "metadata": {},
     "output_type": "execute_result"
    }
   ],
   "source": [
    "ee.Image(IMG.get(0))"
   ]
  }
 ],
 "metadata": {
  "colab": {
   "name": "Water Parameters.ipynb",
   "provenance": []
  },
  "kernelspec": {
   "display_name": "Python 3 (ipykernel)",
   "language": "python",
   "name": "python3"
  },
  "language_info": {
   "codemirror_mode": {
    "name": "ipython",
    "version": 3
   },
   "file_extension": ".py",
   "mimetype": "text/x-python",
   "name": "python",
   "nbconvert_exporter": "python",
   "pygments_lexer": "ipython3",
   "version": "3.9.12"
  },
  "widgets": {
   "application/vnd.jupyter.widget-state+json": {
    "0c125ce7d0be408db2fc7fa1dc758b85": {
     "model_module": "jupyter-leaflet",
     "model_module_version": "^0.14.0",
     "model_name": "LeafletZoomControlModel",
     "state": {
      "_model_module": "jupyter-leaflet",
      "_model_module_version": "^0.14.0",
      "_model_name": "LeafletZoomControlModel",
      "_view_count": null,
      "_view_module": "jupyter-leaflet",
      "_view_module_version": "^0.14.0",
      "_view_name": "LeafletZoomControlView",
      "options": [
       "position",
       "zoom_in_text",
       "zoom_in_title",
       "zoom_out_text",
       "zoom_out_title"
      ],
      "position": "topleft",
      "zoom_in_text": "+",
      "zoom_in_title": "Zoom in",
      "zoom_out_text": "-",
      "zoom_out_title": "Zoom out"
     }
    },
    "0d8647b54cb54d068391abb0417bc446": {
     "model_module": "@jupyter-widgets/controls",
     "model_module_version": "1.5.0",
     "model_name": "HBoxModel",
     "state": {
      "_dom_classes": [],
      "_model_module": "@jupyter-widgets/controls",
      "_model_module_version": "1.5.0",
      "_model_name": "HBoxModel",
      "_view_count": null,
      "_view_module": "@jupyter-widgets/controls",
      "_view_module_version": "1.5.0",
      "_view_name": "HBoxView",
      "box_style": "",
      "children": [
       "IPY_MODEL_c1b455af7c9f4ada86c6fe686d33c88d"
      ],
      "layout": "IPY_MODEL_be25a3972c284d03b54de74ce5d9a7cd"
     }
    },
    "12bfe982f825454abd22f3ae74251f99": {
     "model_module": "@jupyter-widgets/controls",
     "model_module_version": "1.5.0",
     "model_name": "DescriptionStyleModel",
     "state": {
      "_model_module": "@jupyter-widgets/controls",
      "_model_module_version": "1.5.0",
      "_model_name": "DescriptionStyleModel",
      "_view_count": null,
      "_view_module": "@jupyter-widgets/base",
      "_view_module_version": "1.2.0",
      "_view_name": "StyleView",
      "description_width": ""
     }
    },
    "1432ccf5b1a143819f1747071af9fbea": {
     "model_module": "jupyter-leaflet",
     "model_module_version": "^0.14.0",
     "model_name": "LeafletTileLayerModel",
     "state": {
      "_model_module": "jupyter-leaflet",
      "_model_module_version": "^0.14.0",
      "_model_name": "LeafletTileLayerModel",
      "_view_count": null,
      "_view_module": "jupyter-leaflet",
      "_view_module_version": "^0.14.0",
      "_view_name": "LeafletTileLayerView",
      "attribution": "Google Earth Engine",
      "base": false,
      "bottom": true,
      "detect_retina": false,
      "loading": false,
      "max_native_zoom": 18,
      "max_zoom": 24,
      "min_native_zoom": 0,
      "min_zoom": 0,
      "name": "IMG_NDCI",
      "no_wrap": false,
      "opacity": 1,
      "options": [
       "attribution",
       "detect_retina",
       "max_native_zoom",
       "max_zoom",
       "min_native_zoom",
       "min_zoom",
       "no_wrap",
       "tile_size",
       "tms"
      ],
      "popup": null,
      "popup_max_height": null,
      "popup_max_width": 300,
      "popup_min_width": 50,
      "show_loading": false,
      "tile_size": 256,
      "tms": false,
      "url": "https://earthengine.googleapis.com/v1alpha/projects/earthengine-legacy/maps/b8d6131115fee1557877bec1fdb6c9fe-9465442747d9c439e91508bf68b5c32d/tiles/{z}/{x}/{y}",
      "visible": true
     }
    },
    "1b94f31f0f924e2fb20f8482a89f928c": {
     "model_module": "jupyter-leaflet",
     "model_module_version": "^0.14.0",
     "model_name": "LeafletTileLayerModel",
     "state": {
      "_model_module": "jupyter-leaflet",
      "_model_module_version": "^0.14.0",
      "_model_name": "LeafletTileLayerModel",
      "_view_count": null,
      "_view_module": "jupyter-leaflet",
      "_view_module_version": "^0.14.0",
      "_view_name": "LeafletTileLayerView",
      "attribution": "Google Earth Engine",
      "base": false,
      "bottom": true,
      "detect_retina": false,
      "loading": false,
      "max_native_zoom": 18,
      "max_zoom": 24,
      "min_native_zoom": 0,
      "min_zoom": 0,
      "name": "IMG",
      "no_wrap": false,
      "opacity": 1,
      "options": [
       "attribution",
       "detect_retina",
       "max_native_zoom",
       "max_zoom",
       "min_native_zoom",
       "min_zoom",
       "no_wrap",
       "tile_size",
       "tms"
      ],
      "popup": null,
      "popup_max_height": null,
      "popup_max_width": 300,
      "popup_min_width": 50,
      "show_loading": false,
      "tile_size": 256,
      "tms": false,
      "url": "https://earthengine.googleapis.com/v1alpha/projects/earthengine-legacy/maps/ef91058887292cb66e2a519dc31cd5ae-9d4ebabf60affdff80360331d5ee254a/tiles/{z}/{x}/{y}",
      "visible": true
     }
    },
    "20f7b002b7f042049817d44e2bbad0ce": {
     "model_module": "jupyter-leaflet",
     "model_module_version": "^0.14.0",
     "model_name": "LeafletTileLayerModel",
     "state": {
      "_model_module": "jupyter-leaflet",
      "_model_module_version": "^0.14.0",
      "_model_name": "LeafletTileLayerModel",
      "_view_count": null,
      "_view_module": "jupyter-leaflet",
      "_view_module_version": "^0.14.0",
      "_view_name": "LeafletTileLayerView",
      "attribution": "Google Earth Engine",
      "base": false,
      "bottom": true,
      "detect_retina": false,
      "loading": false,
      "max_native_zoom": 18,
      "max_zoom": 24,
      "min_native_zoom": 0,
      "min_zoom": 0,
      "name": "Selected region",
      "no_wrap": false,
      "opacity": 1,
      "options": [
       "attribution",
       "detect_retina",
       "max_native_zoom",
       "max_zoom",
       "min_native_zoom",
       "min_zoom",
       "no_wrap",
       "tile_size",
       "tms"
      ],
      "popup": null,
      "popup_max_height": null,
      "popup_max_width": 300,
      "popup_min_width": 50,
      "show_loading": false,
      "tile_size": 256,
      "tms": false,
      "url": "https://earthengine.googleapis.com/v1alpha/projects/earthengine-legacy/maps/b41cec7e44adc46bb23fb75f0d073a1c-0b84929acae4cfa4b7558dc5cafc591b/tiles/{z}/{x}/{y}",
      "visible": true
     }
    },
    "297b67f3f5b84dabadfe9374f7e0ec9d": {
     "model_module": "jupyter-leaflet",
     "model_module_version": "^0.14.0",
     "model_name": "LeafletTileLayerModel",
     "state": {
      "_model_module": "jupyter-leaflet",
      "_model_module_version": "^0.14.0",
      "_model_name": "LeafletTileLayerModel",
      "_view_count": null,
      "_view_module": "jupyter-leaflet",
      "_view_module_version": "^0.14.0",
      "_view_name": "LeafletTileLayerView",
      "attribution": "Map data (c) <a href=\"https://openstreetmap.org\">OpenStreetMap</a> contributors",
      "base": true,
      "bottom": true,
      "detect_retina": false,
      "loading": false,
      "max_native_zoom": 18,
      "max_zoom": 19,
      "min_native_zoom": 0,
      "min_zoom": 1,
      "name": "",
      "no_wrap": false,
      "opacity": 1,
      "options": [
       "attribution",
       "detect_retina",
       "max_native_zoom",
       "max_zoom",
       "min_native_zoom",
       "min_zoom",
       "no_wrap",
       "tile_size",
       "tms"
      ],
      "popup": null,
      "popup_max_height": null,
      "popup_max_width": 300,
      "popup_min_width": 50,
      "show_loading": false,
      "tile_size": 256,
      "tms": false,
      "url": "https://{s}.tile.openstreetmap.org/{z}/{x}/{y}.png",
      "visible": true
     }
    },
    "2d3c678084b8473abaec3f09187db091": {
     "model_module": "jupyter-leaflet",
     "model_module_version": "^0.14.0",
     "model_name": "LeafletTileLayerModel",
     "state": {
      "_model_module": "jupyter-leaflet",
      "_model_module_version": "^0.14.0",
      "_model_name": "LeafletTileLayerModel",
      "_view_count": null,
      "_view_module": "jupyter-leaflet",
      "_view_module_version": "^0.14.0",
      "_view_name": "LeafletTileLayerView",
      "attribution": "Google Earth Engine",
      "base": false,
      "bottom": true,
      "detect_retina": false,
      "loading": false,
      "max_native_zoom": 18,
      "max_zoom": 24,
      "min_native_zoom": 0,
      "min_zoom": 0,
      "name": "IMG",
      "no_wrap": false,
      "opacity": 1,
      "options": [
       "attribution",
       "detect_retina",
       "max_native_zoom",
       "max_zoom",
       "min_native_zoom",
       "min_zoom",
       "no_wrap",
       "tile_size",
       "tms"
      ],
      "popup": null,
      "popup_max_height": null,
      "popup_max_width": 300,
      "popup_min_width": 50,
      "show_loading": false,
      "tile_size": 256,
      "tms": false,
      "url": "https://earthengine.googleapis.com/v1alpha/projects/earthengine-legacy/maps/ef91058887292cb66e2a519dc31cd5ae-e98be77be731ea2d85d8b357f1e3f09c/tiles/{z}/{x}/{y}",
      "visible": true
     }
    },
    "3021743f40aa4b25ab4baeccec695133": {
     "model_module": "jupyter-leaflet",
     "model_module_version": "^0.14.0",
     "model_name": "LeafletTileLayerModel",
     "state": {
      "_model_module": "jupyter-leaflet",
      "_model_module_version": "^0.14.0",
      "_model_name": "LeafletTileLayerModel",
      "_view_count": null,
      "_view_module": "jupyter-leaflet",
      "_view_module_version": "^0.14.0",
      "_view_name": "LeafletTileLayerView",
      "attribution": "Google Earth Engine",
      "base": false,
      "bottom": true,
      "detect_retina": false,
      "loading": false,
      "max_native_zoom": 18,
      "max_zoom": 24,
      "min_native_zoom": 0,
      "min_zoom": 0,
      "name": "IMG",
      "no_wrap": false,
      "opacity": 1,
      "options": [
       "attribution",
       "detect_retina",
       "max_native_zoom",
       "max_zoom",
       "min_native_zoom",
       "min_zoom",
       "no_wrap",
       "tile_size",
       "tms"
      ],
      "popup": null,
      "popup_max_height": null,
      "popup_max_width": 300,
      "popup_min_width": 50,
      "show_loading": false,
      "tile_size": 256,
      "tms": false,
      "url": "https://earthengine.googleapis.com/v1alpha/projects/earthengine-legacy/maps/ef91058887292cb66e2a519dc31cd5ae-7988a08bf97f0cb428ed0ef63ceaab4f/tiles/{z}/{x}/{y}",
      "visible": true
     }
    },
    "3319fa2312c04ad38a924bf15f4b47a5": {
     "model_module": "@jupyter-widgets/base",
     "model_module_version": "1.2.0",
     "model_name": "LayoutModel",
     "state": {
      "_model_module": "@jupyter-widgets/base",
      "_model_module_version": "1.2.0",
      "_model_name": "LayoutModel",
      "_view_count": null,
      "_view_module": "@jupyter-widgets/base",
      "_view_module_version": "1.2.0",
      "_view_name": "LayoutView",
      "align_content": null,
      "align_items": null,
      "align_self": null,
      "border": null,
      "bottom": null,
      "display": null,
      "flex": null,
      "flex_flow": null,
      "grid_area": null,
      "grid_auto_columns": null,
      "grid_auto_flow": null,
      "grid_auto_rows": null,
      "grid_column": null,
      "grid_gap": null,
      "grid_row": null,
      "grid_template_areas": null,
      "grid_template_columns": null,
      "grid_template_rows": null,
      "height": null,
      "justify_content": null,
      "justify_items": null,
      "left": null,
      "margin": null,
      "max_height": null,
      "max_width": null,
      "min_height": null,
      "min_width": null,
      "object_fit": null,
      "object_position": null,
      "order": null,
      "overflow": null,
      "overflow_x": null,
      "overflow_y": null,
      "padding": null,
      "right": null,
      "top": null,
      "visibility": null,
      "width": null
     }
    },
    "37e0f5e00e70435abd9ed6b3554bb8b3": {
     "model_module": "@jupyter-widgets/base",
     "model_module_version": "1.2.0",
     "model_name": "LayoutModel",
     "state": {
      "_model_module": "@jupyter-widgets/base",
      "_model_module_version": "1.2.0",
      "_model_name": "LayoutModel",
      "_view_count": null,
      "_view_module": "@jupyter-widgets/base",
      "_view_module_version": "1.2.0",
      "_view_name": "LayoutView",
      "align_content": null,
      "align_items": null,
      "align_self": null,
      "border": null,
      "bottom": null,
      "display": null,
      "flex": null,
      "flex_flow": null,
      "grid_area": null,
      "grid_auto_columns": null,
      "grid_auto_flow": null,
      "grid_auto_rows": null,
      "grid_column": null,
      "grid_gap": null,
      "grid_row": null,
      "grid_template_areas": null,
      "grid_template_columns": null,
      "grid_template_rows": null,
      "height": "28px",
      "justify_content": null,
      "justify_items": null,
      "left": null,
      "margin": null,
      "max_height": null,
      "max_width": null,
      "min_height": null,
      "min_width": null,
      "object_fit": null,
      "object_position": null,
      "order": null,
      "overflow": null,
      "overflow_x": null,
      "overflow_y": null,
      "padding": "0px 0px 0px 4px",
      "right": null,
      "top": null,
      "visibility": null,
      "width": "28px"
     }
    },
    "3ba923d024b9436c85da5b7e32e9a0f3": {
     "model_module": "jupyter-leaflet",
     "model_module_version": "^0.14.0",
     "model_name": "LeafletWidgetControlModel",
     "state": {
      "_model_module": "jupyter-leaflet",
      "_model_module_version": "^0.14.0",
      "_model_name": "LeafletWidgetControlModel",
      "_view_count": null,
      "_view_module": "jupyter-leaflet",
      "_view_module_version": "^0.14.0",
      "_view_name": "LeafletWidgetControlView",
      "max_height": null,
      "max_width": null,
      "min_height": null,
      "min_width": null,
      "options": [
       "position",
       "transparent_bg"
      ],
      "position": "topleft",
      "transparent_bg": false,
      "widget": "IPY_MODEL_0d8647b54cb54d068391abb0417bc446"
     }
    },
    "3bc33fb3e4f0481aade6278393e0617e": {
     "model_module": "jupyter-leaflet",
     "model_module_version": "^0.14.0",
     "model_name": "LeafletMapStyleModel",
     "state": {
      "_model_module": "jupyter-leaflet",
      "_model_module_version": "^0.14.0",
      "_model_name": "LeafletMapStyleModel",
      "_view_count": null,
      "_view_module": "@jupyter-widgets/base",
      "_view_module_version": "1.2.0",
      "_view_name": "StyleView",
      "cursor": "grab"
     }
    },
    "3dbbf99bf0dd4522ace6264a1efb1097": {
     "model_module": "@jupyter-widgets/controls",
     "model_module_version": "1.5.0",
     "model_name": "VBoxModel",
     "state": {
      "_dom_classes": [],
      "_model_module": "@jupyter-widgets/controls",
      "_model_module_version": "1.5.0",
      "_model_name": "VBoxModel",
      "_view_count": null,
      "_view_module": "@jupyter-widgets/controls",
      "_view_module_version": "1.5.0",
      "_view_name": "VBoxView",
      "box_style": "",
      "children": [
       "IPY_MODEL_920fc696ab874f048288b55242a8b6e6"
      ],
      "layout": "IPY_MODEL_3319fa2312c04ad38a924bf15f4b47a5"
     }
    },
    "3ff5a491eb7f46ee9000a217407e8d43": {
     "model_module": "jupyter-leaflet",
     "model_module_version": "^0.14.0",
     "model_name": "LeafletTileLayerModel",
     "state": {
      "_model_module": "jupyter-leaflet",
      "_model_module_version": "^0.14.0",
      "_model_name": "LeafletTileLayerModel",
      "_view_count": null,
      "_view_module": "jupyter-leaflet",
      "_view_module_version": "^0.14.0",
      "_view_name": "LeafletTileLayerView",
      "attribution": "Google Earth Engine",
      "base": false,
      "bottom": true,
      "detect_retina": false,
      "loading": false,
      "max_native_zoom": 18,
      "max_zoom": 24,
      "min_native_zoom": 0,
      "min_zoom": 0,
      "name": "IMG",
      "no_wrap": false,
      "opacity": 1,
      "options": [
       "attribution",
       "detect_retina",
       "max_native_zoom",
       "max_zoom",
       "min_native_zoom",
       "min_zoom",
       "no_wrap",
       "tile_size",
       "tms"
      ],
      "popup": null,
      "popup_max_height": null,
      "popup_max_width": 300,
      "popup_min_width": 50,
      "show_loading": false,
      "tile_size": 256,
      "tms": false,
      "url": "https://earthengine.googleapis.com/v1alpha/projects/earthengine-legacy/maps/ef91058887292cb66e2a519dc31cd5ae-cadec88dcf01a4728b31e2b079b0aeaa/tiles/{z}/{x}/{y}",
      "visible": true
     }
    },
    "457004326dc242b384e5c8a659276247": {
     "model_module": "jupyter-leaflet",
     "model_module_version": "^0.14.0",
     "model_name": "LeafletTileLayerModel",
     "state": {
      "_model_module": "jupyter-leaflet",
      "_model_module_version": "^0.14.0",
      "_model_name": "LeafletTileLayerModel",
      "_view_count": null,
      "_view_module": "jupyter-leaflet",
      "_view_module_version": "^0.14.0",
      "_view_name": "LeafletTileLayerView",
      "attribution": "Google Earth Engine",
      "base": false,
      "bottom": true,
      "detect_retina": false,
      "loading": false,
      "max_native_zoom": 18,
      "max_zoom": 24,
      "min_native_zoom": 0,
      "min_zoom": 0,
      "name": "IMG_water_NDWI",
      "no_wrap": false,
      "opacity": 1,
      "options": [
       "attribution",
       "detect_retina",
       "max_native_zoom",
       "max_zoom",
       "min_native_zoom",
       "min_zoom",
       "no_wrap",
       "tile_size",
       "tms"
      ],
      "popup": null,
      "popup_max_height": null,
      "popup_max_width": 300,
      "popup_min_width": 50,
      "show_loading": false,
      "tile_size": 256,
      "tms": false,
      "url": "https://earthengine.googleapis.com/v1alpha/projects/earthengine-legacy/maps/f41ce9a0e66fbcfa3fe0f86f0720ffdd-d6febb8dca31c7ebd55e05f862116d0a/tiles/{z}/{x}/{y}",
      "visible": true
     }
    },
    "4b3d2387a4a341b49129dac29029b0eb": {
     "model_module": "jupyter-leaflet",
     "model_module_version": "^0.14.0",
     "model_name": "LeafletMapStyleModel",
     "state": {
      "_model_module": "jupyter-leaflet",
      "_model_module_version": "^0.14.0",
      "_model_name": "LeafletMapStyleModel",
      "_view_count": null,
      "_view_module": "@jupyter-widgets/base",
      "_view_module_version": "1.2.0",
      "_view_name": "StyleView",
      "cursor": "move"
     }
    },
    "5428138bda944e958c47bfe44a35bd89": {
     "model_module": "jupyter-leaflet",
     "model_module_version": "^0.14.0",
     "model_name": "LeafletTileLayerModel",
     "state": {
      "_model_module": "jupyter-leaflet",
      "_model_module_version": "^0.14.0",
      "_model_name": "LeafletTileLayerModel",
      "_view_count": null,
      "_view_module": "jupyter-leaflet",
      "_view_module_version": "^0.14.0",
      "_view_name": "LeafletTileLayerView",
      "attribution": "Google Earth Engine",
      "base": false,
      "bottom": true,
      "detect_retina": false,
      "loading": false,
      "max_native_zoom": 18,
      "max_zoom": 24,
      "min_native_zoom": 0,
      "min_zoom": 0,
      "name": "IMG_water",
      "no_wrap": false,
      "opacity": 1,
      "options": [
       "attribution",
       "detect_retina",
       "max_native_zoom",
       "max_zoom",
       "min_native_zoom",
       "min_zoom",
       "no_wrap",
       "tile_size",
       "tms"
      ],
      "popup": null,
      "popup_max_height": null,
      "popup_max_width": 300,
      "popup_min_width": 50,
      "show_loading": false,
      "tile_size": 256,
      "tms": false,
      "url": "https://earthengine.googleapis.com/v1alpha/projects/earthengine-legacy/maps/f41ce9a0e66fbcfa3fe0f86f0720ffdd-58ec10d036e9bc032788af80b56746d1/tiles/{z}/{x}/{y}",
      "visible": true
     }
    },
    "7720daeeb05f4b248bdbbe8411905859": {
     "model_module": "jupyter-leaflet",
     "model_module_version": "^0.14.0",
     "model_name": "LeafletTileLayerModel",
     "state": {
      "_model_module": "jupyter-leaflet",
      "_model_module_version": "^0.14.0",
      "_model_name": "LeafletTileLayerModel",
      "_view_count": null,
      "_view_module": "jupyter-leaflet",
      "_view_module_version": "^0.14.0",
      "_view_name": "LeafletTileLayerView",
      "attribution": "Google Earth Engine",
      "base": false,
      "bottom": true,
      "detect_retina": false,
      "loading": false,
      "max_native_zoom": 18,
      "max_zoom": 24,
      "min_native_zoom": 0,
      "min_zoom": 0,
      "name": "IMG",
      "no_wrap": false,
      "opacity": 1,
      "options": [
       "attribution",
       "detect_retina",
       "max_native_zoom",
       "max_zoom",
       "min_native_zoom",
       "min_zoom",
       "no_wrap",
       "tile_size",
       "tms"
      ],
      "popup": null,
      "popup_max_height": null,
      "popup_max_width": 300,
      "popup_min_width": 50,
      "show_loading": false,
      "tile_size": 256,
      "tms": false,
      "url": "https://earthengine.googleapis.com/v1alpha/projects/earthengine-legacy/maps/8ac57e30dcde36db81ffc4200f229d37-0171afef0e453d59c45d41428703c9c5/tiles/{z}/{x}/{y}",
      "visible": true
     }
    },
    "89a34d08a88246b5a6cc25374bd92c2b": {
     "model_module": "jupyter-leaflet",
     "model_module_version": "^0.14.0",
     "model_name": "LeafletTileLayerModel",
     "state": {
      "_model_module": "jupyter-leaflet",
      "_model_module_version": "^0.14.0",
      "_model_name": "LeafletTileLayerModel",
      "_view_count": null,
      "_view_module": "jupyter-leaflet",
      "_view_module_version": "^0.14.0",
      "_view_name": "LeafletTileLayerView",
      "attribution": "Google Earth Engine",
      "base": false,
      "bottom": true,
      "detect_retina": false,
      "loading": false,
      "max_native_zoom": 18,
      "max_zoom": 24,
      "min_native_zoom": 0,
      "min_zoom": 0,
      "name": "IMG",
      "no_wrap": false,
      "opacity": 1,
      "options": [
       "attribution",
       "detect_retina",
       "max_native_zoom",
       "max_zoom",
       "min_native_zoom",
       "min_zoom",
       "no_wrap",
       "tile_size",
       "tms"
      ],
      "popup": null,
      "popup_max_height": null,
      "popup_max_width": 300,
      "popup_min_width": 50,
      "show_loading": false,
      "tile_size": 256,
      "tms": false,
      "url": "https://earthengine.googleapis.com/v1alpha/projects/earthengine-legacy/maps/8ac57e30dcde36db81ffc4200f229d37-18f66a4ca762d4acebd2b1c7b99dcdb7/tiles/{z}/{x}/{y}",
      "visible": true
     }
    },
    "8b88675ba4f5483b8e5b3502fbf768e3": {
     "model_module": "jupyter-leaflet",
     "model_module_version": "^0.14.0",
     "model_name": "LeafletTileLayerModel",
     "state": {
      "_model_module": "jupyter-leaflet",
      "_model_module_version": "^0.14.0",
      "_model_name": "LeafletTileLayerModel",
      "_view_count": null,
      "_view_module": "jupyter-leaflet",
      "_view_module_version": "^0.14.0",
      "_view_name": "LeafletTileLayerView",
      "attribution": "Google Earth Engine",
      "base": false,
      "bottom": true,
      "detect_retina": false,
      "loading": false,
      "max_native_zoom": 18,
      "max_zoom": 24,
      "min_native_zoom": 0,
      "min_zoom": 0,
      "name": "IMG_water_NDWI",
      "no_wrap": false,
      "opacity": 1,
      "options": [
       "attribution",
       "detect_retina",
       "max_native_zoom",
       "max_zoom",
       "min_native_zoom",
       "min_zoom",
       "no_wrap",
       "tile_size",
       "tms"
      ],
      "popup": null,
      "popup_max_height": null,
      "popup_max_width": 300,
      "popup_min_width": 50,
      "show_loading": false,
      "tile_size": 256,
      "tms": false,
      "url": "https://earthengine.googleapis.com/v1alpha/projects/earthengine-legacy/maps/7dcd559dfeb5316c2e9f8ac68ffdfd50-41b185baa9bc111dd86326983cfe1e53/tiles/{z}/{x}/{y}",
      "visible": true
     }
    },
    "920fc696ab874f048288b55242a8b6e6": {
     "model_module": "@jupyter-widgets/controls",
     "model_module_version": "1.5.0",
     "model_name": "ToggleButtonModel",
     "state": {
      "_dom_classes": [],
      "_model_module": "@jupyter-widgets/controls",
      "_model_module_version": "1.5.0",
      "_model_name": "ToggleButtonModel",
      "_view_count": null,
      "_view_module": "@jupyter-widgets/controls",
      "_view_module_version": "1.5.0",
      "_view_name": "ToggleButtonView",
      "button_style": "",
      "description": "",
      "description_tooltip": null,
      "disabled": false,
      "icon": "wrench",
      "layout": "IPY_MODEL_37e0f5e00e70435abd9ed6b3554bb8b3",
      "style": "IPY_MODEL_12bfe982f825454abd22f3ae74251f99",
      "tooltip": "Toolbar",
      "value": false
     }
    },
    "9b34fa9536514db9bacb10594ef8ee59": {
     "model_module": "jupyter-leaflet",
     "model_module_version": "^0.14.0",
     "model_name": "LeafletTileLayerModel",
     "state": {
      "_model_module": "jupyter-leaflet",
      "_model_module_version": "^0.14.0",
      "_model_name": "LeafletTileLayerModel",
      "_view_count": null,
      "_view_module": "jupyter-leaflet",
      "_view_module_version": "^0.14.0",
      "_view_name": "LeafletTileLayerView",
      "attribution": "Google Earth Engine",
      "base": false,
      "bottom": true,
      "detect_retina": false,
      "loading": false,
      "max_native_zoom": 18,
      "max_zoom": 24,
      "min_native_zoom": 0,
      "min_zoom": 0,
      "name": "IMG_water_MNDWI1",
      "no_wrap": false,
      "opacity": 1,
      "options": [
       "attribution",
       "detect_retina",
       "max_native_zoom",
       "max_zoom",
       "min_native_zoom",
       "min_zoom",
       "no_wrap",
       "tile_size",
       "tms"
      ],
      "popup": null,
      "popup_max_height": null,
      "popup_max_width": 300,
      "popup_min_width": 50,
      "show_loading": false,
      "tile_size": 256,
      "tms": false,
      "url": "https://earthengine.googleapis.com/v1alpha/projects/earthengine-legacy/maps/5549b9e4ccf2a6c9c8b44a765117a5df-bc15eb990416345dcf9bc890db2af450/tiles/{z}/{x}/{y}",
      "visible": true
     }
    },
    "a5398250ea5b4bbd809891878e4969fe": {
     "model_module": "jupyter-leaflet",
     "model_module_version": "^0.14.0",
     "model_name": "LeafletTileLayerModel",
     "state": {
      "_model_module": "jupyter-leaflet",
      "_model_module_version": "^0.14.0",
      "_model_name": "LeafletTileLayerModel",
      "_view_count": null,
      "_view_module": "jupyter-leaflet",
      "_view_module_version": "^0.14.0",
      "_view_name": "LeafletTileLayerView",
      "attribution": "Google Earth Engine",
      "base": false,
      "bottom": true,
      "detect_retina": false,
      "loading": false,
      "max_native_zoom": 18,
      "max_zoom": 24,
      "min_native_zoom": 0,
      "min_zoom": 0,
      "name": "IMG_water_MNDWI1",
      "no_wrap": false,
      "opacity": 1,
      "options": [
       "attribution",
       "detect_retina",
       "max_native_zoom",
       "max_zoom",
       "min_native_zoom",
       "min_zoom",
       "no_wrap",
       "tile_size",
       "tms"
      ],
      "popup": null,
      "popup_max_height": null,
      "popup_max_width": 300,
      "popup_min_width": 50,
      "show_loading": false,
      "tile_size": 256,
      "tms": false,
      "url": "https://earthengine.googleapis.com/v1alpha/projects/earthengine-legacy/maps/62293aacc7e6881ae884d4a1f822dfae-24c9a69b789a5240d3660da7f283cfb8/tiles/{z}/{x}/{y}",
      "visible": true
     }
    },
    "a9e50fd582db49fa9056558d1160ee93": {
     "model_module": "jupyter-leaflet",
     "model_module_version": "^0.14.0",
     "model_name": "LeafletTileLayerModel",
     "state": {
      "_model_module": "jupyter-leaflet",
      "_model_module_version": "^0.14.0",
      "_model_name": "LeafletTileLayerModel",
      "_view_count": null,
      "_view_module": "jupyter-leaflet",
      "_view_module_version": "^0.14.0",
      "_view_name": "LeafletTileLayerView",
      "attribution": "Google Earth Engine",
      "base": false,
      "bottom": true,
      "detect_retina": false,
      "loading": false,
      "max_native_zoom": 18,
      "max_zoom": 24,
      "min_native_zoom": 0,
      "min_zoom": 0,
      "name": "IMG_water_NDWI",
      "no_wrap": false,
      "opacity": 1,
      "options": [
       "attribution",
       "detect_retina",
       "max_native_zoom",
       "max_zoom",
       "min_native_zoom",
       "min_zoom",
       "no_wrap",
       "tile_size",
       "tms"
      ],
      "popup": null,
      "popup_max_height": null,
      "popup_max_width": 300,
      "popup_min_width": 50,
      "show_loading": false,
      "tile_size": 256,
      "tms": false,
      "url": "https://earthengine.googleapis.com/v1alpha/projects/earthengine-legacy/maps/6b0f9e7575602ab6f57027cdcd041306-35c3e099f0db07d690eafc4c7b9b7d7c/tiles/{z}/{x}/{y}",
      "visible": true
     }
    },
    "aaa4889b90e4456490d59e2e8fa433a4": {
     "model_module": "jupyter-leaflet",
     "model_module_version": "^0.14.0",
     "model_name": "LeafletTileLayerModel",
     "state": {
      "_model_module": "jupyter-leaflet",
      "_model_module_version": "^0.14.0",
      "_model_name": "LeafletTileLayerModel",
      "_view_count": null,
      "_view_module": "jupyter-leaflet",
      "_view_module_version": "^0.14.0",
      "_view_name": "LeafletTileLayerView",
      "attribution": "Google",
      "base": false,
      "bottom": true,
      "detect_retina": false,
      "loading": false,
      "max_native_zoom": 18,
      "max_zoom": 24,
      "min_native_zoom": 0,
      "min_zoom": 0,
      "name": "Google Maps",
      "no_wrap": false,
      "opacity": 1,
      "options": [
       "attribution",
       "detect_retina",
       "max_native_zoom",
       "max_zoom",
       "min_native_zoom",
       "min_zoom",
       "no_wrap",
       "tile_size",
       "tms"
      ],
      "popup": null,
      "popup_max_height": null,
      "popup_max_width": 300,
      "popup_min_width": 50,
      "show_loading": false,
      "tile_size": 256,
      "tms": false,
      "url": "https://mt1.google.com/vt/lyrs=m&x={x}&y={y}&z={z}",
      "visible": true
     }
    },
    "ac1c64637ccc45f48e3460a56c829213": {
     "model_module": "jupyter-leaflet",
     "model_module_version": "^0.14.0",
     "model_name": "LeafletDrawControlModel",
     "state": {
      "_model_module": "jupyter-leaflet",
      "_model_module_version": "^0.14.0",
      "_model_name": "LeafletDrawControlModel",
      "_view_count": null,
      "_view_module": "jupyter-leaflet",
      "_view_module_version": "^0.14.0",
      "_view_name": "LeafletDrawControlView",
      "circle": {
       "shapeOptions": {
        "color": "#3388ff"
       }
      },
      "circlemarker": {},
      "data": [
       {
        "geometry": {
         "coordinates": [
          [
           [
            69.656067,
            22.375476
           ],
           [
            69.656067,
            23.104997
           ],
           [
            70.515747,
            23.104997
           ],
           [
            70.515747,
            22.375476
           ],
           [
            69.656067,
            22.375476
           ]
          ]
         ],
         "type": "Polygon"
        },
        "properties": {
         "style": {
          "clickable": true,
          "color": "#3388ff",
          "fill": true,
          "fillColor": null,
          "fillOpacity": 0.2,
          "opacity": 0.5,
          "stroke": true,
          "weight": 4
         }
        },
        "type": "Feature"
       }
      ],
      "edit": true,
      "marker": {
       "shapeOptions": {
        "color": "#3388ff"
       }
      },
      "options": [
       "position"
      ],
      "polygon": {
       "shapeOptions": {}
      },
      "polyline": {
       "shapeOptions": {}
      },
      "position": "topleft",
      "rectangle": {
       "shapeOptions": {
        "color": "#3388ff"
       }
      },
      "remove": true
     }
    },
    "b355f74cd4264649bd267a9b4a45ea65": {
     "model_module": "jupyter-leaflet",
     "model_module_version": "^0.14.0",
     "model_name": "LeafletMapModel",
     "state": {
      "_dom_classes": [],
      "_dragging": false,
      "_model_module": "jupyter-leaflet",
      "_model_module_version": "^0.14.0",
      "_model_name": "LeafletMapModel",
      "_view_count": null,
      "_view_module": "jupyter-leaflet",
      "_view_module_version": "^0.14.0",
      "_view_name": "LeafletMapView",
      "bottom": 57459,
      "bounce_at_zoom_limits": true,
      "box_zoom": true,
      "center": [
       22.413567638369805,
       70.64208984375001
      ],
      "close_popup_on_click": true,
      "controls": [
       "IPY_MODEL_3ba923d024b9436c85da5b7e32e9a0f3",
       "IPY_MODEL_0c125ce7d0be408db2fc7fa1dc758b85",
       "IPY_MODEL_dee6aed623aa40beb82b03277c2e830e",
       "IPY_MODEL_b99a3c2c82c1422183bbe489865673ac",
       "IPY_MODEL_e77952daa5114a6dbc355f79d0c4925e",
       "IPY_MODEL_d40a68d12407414dbc2204ca20737fdd",
       "IPY_MODEL_ac1c64637ccc45f48e3460a56c829213",
       "IPY_MODEL_bb721b64fdcd4365b032c9cdd1a2fe6a"
      ],
      "crs": {
       "custom": false,
       "name": "EPSG3857"
      },
      "default_style": "IPY_MODEL_ea1a31a06e684207be26ce78833f5449",
      "double_click_zoom": true,
      "dragging": true,
      "dragging_style": "IPY_MODEL_4b3d2387a4a341b49129dac29029b0eb",
      "east": 72.44659423828126,
      "fullscreen": false,
      "inertia": true,
      "inertia_deceleration": 3000,
      "inertia_max_speed": 1500,
      "interpolation": "bilinear",
      "keyboard": true,
      "keyboard_pan_offset": 80,
      "keyboard_zoom_offset": 1,
      "layers": [
       "IPY_MODEL_297b67f3f5b84dabadfe9374f7e0ec9d",
       "IPY_MODEL_aaa4889b90e4456490d59e2e8fa433a4",
       "IPY_MODEL_e7a1ece4466a4dffb6062e059c3e279c",
       "IPY_MODEL_5428138bda944e958c47bfe44a35bd89",
       "IPY_MODEL_eac8866e5bc9439588eb6f2bcb328b00",
       "IPY_MODEL_8b88675ba4f5483b8e5b3502fbf768e3",
       "IPY_MODEL_be295f065a874a3991ba27ae1272b21d",
       "IPY_MODEL_1432ccf5b1a143819f1747071af9fbea",
       "IPY_MODEL_20f7b002b7f042049817d44e2bbad0ce"
      ],
      "layout": "IPY_MODEL_ba5dd4ecb6184d248422a1ed11ccc439",
      "left": 90599,
      "max_zoom": 24,
      "min_zoom": 1,
      "modisdate": "yesterday",
      "north": 23.173188837559056,
      "options": [
       "bounce_at_zoom_limits",
       "box_zoom",
       "center",
       "close_popup_on_click",
       "double_click_zoom",
       "dragging",
       "fullscreen",
       "inertia",
       "inertia_deceleration",
       "inertia_max_speed",
       "interpolation",
       "keyboard",
       "keyboard_pan_offset",
       "keyboard_zoom_offset",
       "max_zoom",
       "min_zoom",
       "scroll_wheel_zoom",
       "tap",
       "tap_tolerance",
       "touch_zoom",
       "world_copy_jump",
       "zoom",
       "zoom_animation_threshold",
       "zoom_delta",
       "zoom_snap",
       "zoom_start"
      ],
      "right": 91913,
      "scroll_wheel_zoom": true,
      "south": 21.64976991610971,
      "style": "IPY_MODEL_ea1a31a06e684207be26ce78833f5449",
      "tap": true,
      "tap_tolerance": 15,
      "top": 56859,
      "touch_zoom": true,
      "west": 68.83758544921876,
      "window_url": "https://d52i5bupqji-496ff2e9c6d22116-0-colab.googleusercontent.com/outputframe.html?vrz=colab-20211221-060057-RC00_417582297",
      "world_copy_jump": false,
      "zoom": 9,
      "zoom_animation_threshold": 4,
      "zoom_delta": 1,
      "zoom_snap": 1,
      "zoom_start": 12
     }
    },
    "b6f9a99a9cfa4ea2aab84dd3eb31ea1e": {
     "model_module": "@jupyter-widgets/controls",
     "model_module_version": "1.5.0",
     "model_name": "DescriptionStyleModel",
     "state": {
      "_model_module": "@jupyter-widgets/controls",
      "_model_module_version": "1.5.0",
      "_model_name": "DescriptionStyleModel",
      "_view_count": null,
      "_view_module": "@jupyter-widgets/base",
      "_view_module_version": "1.2.0",
      "_view_name": "StyleView",
      "description_width": ""
     }
    },
    "b99a3c2c82c1422183bbe489865673ac": {
     "model_module": "jupyter-leaflet",
     "model_module_version": "^0.14.0",
     "model_name": "LeafletFullScreenControlModel",
     "state": {
      "_model_module": "jupyter-leaflet",
      "_model_module_version": "^0.14.0",
      "_model_name": "LeafletFullScreenControlModel",
      "_view_count": null,
      "_view_module": "jupyter-leaflet",
      "_view_module_version": "^0.14.0",
      "_view_name": "LeafletFullScreenControlView",
      "options": [
       "position"
      ],
      "position": "topleft"
     }
    },
    "ba5dd4ecb6184d248422a1ed11ccc439": {
     "model_module": "@jupyter-widgets/base",
     "model_module_version": "1.2.0",
     "model_name": "LayoutModel",
     "state": {
      "_model_module": "@jupyter-widgets/base",
      "_model_module_version": "1.2.0",
      "_model_name": "LayoutModel",
      "_view_count": null,
      "_view_module": "@jupyter-widgets/base",
      "_view_module_version": "1.2.0",
      "_view_name": "LayoutView",
      "align_content": null,
      "align_items": null,
      "align_self": null,
      "border": null,
      "bottom": null,
      "display": null,
      "flex": null,
      "flex_flow": null,
      "grid_area": null,
      "grid_auto_columns": null,
      "grid_auto_flow": null,
      "grid_auto_rows": null,
      "grid_column": null,
      "grid_gap": null,
      "grid_row": null,
      "grid_template_areas": null,
      "grid_template_columns": null,
      "grid_template_rows": null,
      "height": "600px",
      "justify_content": null,
      "justify_items": null,
      "left": null,
      "margin": null,
      "max_height": null,
      "max_width": null,
      "min_height": null,
      "min_width": null,
      "object_fit": null,
      "object_position": null,
      "order": null,
      "overflow": null,
      "overflow_x": null,
      "overflow_y": null,
      "padding": null,
      "right": null,
      "top": null,
      "visibility": null,
      "width": null
     }
    },
    "bb721b64fdcd4365b032c9cdd1a2fe6a": {
     "model_module": "jupyter-leaflet",
     "model_module_version": "^0.14.0",
     "model_name": "LeafletWidgetControlModel",
     "state": {
      "_model_module": "jupyter-leaflet",
      "_model_module_version": "^0.14.0",
      "_model_name": "LeafletWidgetControlModel",
      "_view_count": null,
      "_view_module": "jupyter-leaflet",
      "_view_module_version": "^0.14.0",
      "_view_name": "LeafletWidgetControlView",
      "max_height": null,
      "max_width": null,
      "min_height": null,
      "min_width": null,
      "options": [
       "position",
       "transparent_bg"
      ],
      "position": "topright",
      "transparent_bg": false,
      "widget": "IPY_MODEL_3dbbf99bf0dd4522ace6264a1efb1097"
     }
    },
    "bd85faf3f0614115aaba4b7d78c3b1e9": {
     "model_module": "jupyter-leaflet",
     "model_module_version": "^0.14.0",
     "model_name": "LeafletTileLayerModel",
     "state": {
      "_model_module": "jupyter-leaflet",
      "_model_module_version": "^0.14.0",
      "_model_name": "LeafletTileLayerModel",
      "_view_count": null,
      "_view_module": "jupyter-leaflet",
      "_view_module_version": "^0.14.0",
      "_view_name": "LeafletTileLayerView",
      "attribution": "Google Earth Engine",
      "base": false,
      "bottom": true,
      "detect_retina": false,
      "loading": false,
      "max_native_zoom": 18,
      "max_zoom": 24,
      "min_native_zoom": 0,
      "min_zoom": 0,
      "name": "IMG_NDCI",
      "no_wrap": false,
      "opacity": 1,
      "options": [
       "attribution",
       "detect_retina",
       "max_native_zoom",
       "max_zoom",
       "min_native_zoom",
       "min_zoom",
       "no_wrap",
       "tile_size",
       "tms"
      ],
      "popup": null,
      "popup_max_height": null,
      "popup_max_width": 300,
      "popup_min_width": 50,
      "show_loading": false,
      "tile_size": 256,
      "tms": false,
      "url": "https://earthengine.googleapis.com/v1alpha/projects/earthengine-legacy/maps/4647dd5e1fdc9eec8a457a4c4d2cdd93-b13c8e48ffd42688125ea99293966944/tiles/{z}/{x}/{y}",
      "visible": true
     }
    },
    "be25a3972c284d03b54de74ce5d9a7cd": {
     "model_module": "@jupyter-widgets/base",
     "model_module_version": "1.2.0",
     "model_name": "LayoutModel",
     "state": {
      "_model_module": "@jupyter-widgets/base",
      "_model_module_version": "1.2.0",
      "_model_name": "LayoutModel",
      "_view_count": null,
      "_view_module": "@jupyter-widgets/base",
      "_view_module_version": "1.2.0",
      "_view_name": "LayoutView",
      "align_content": null,
      "align_items": null,
      "align_self": null,
      "border": null,
      "bottom": null,
      "display": null,
      "flex": null,
      "flex_flow": null,
      "grid_area": null,
      "grid_auto_columns": null,
      "grid_auto_flow": null,
      "grid_auto_rows": null,
      "grid_column": null,
      "grid_gap": null,
      "grid_row": null,
      "grid_template_areas": null,
      "grid_template_columns": null,
      "grid_template_rows": null,
      "height": null,
      "justify_content": null,
      "justify_items": null,
      "left": null,
      "margin": null,
      "max_height": null,
      "max_width": null,
      "min_height": null,
      "min_width": null,
      "object_fit": null,
      "object_position": null,
      "order": null,
      "overflow": null,
      "overflow_x": null,
      "overflow_y": null,
      "padding": null,
      "right": null,
      "top": null,
      "visibility": null,
      "width": null
     }
    },
    "be295f065a874a3991ba27ae1272b21d": {
     "model_module": "jupyter-leaflet",
     "model_module_version": "^0.14.0",
     "model_name": "LeafletTileLayerModel",
     "state": {
      "_model_module": "jupyter-leaflet",
      "_model_module_version": "^0.14.0",
      "_model_name": "LeafletTileLayerModel",
      "_view_count": null,
      "_view_module": "jupyter-leaflet",
      "_view_module_version": "^0.14.0",
      "_view_name": "LeafletTileLayerView",
      "attribution": "Google Earth Engine",
      "base": false,
      "bottom": true,
      "detect_retina": false,
      "loading": false,
      "max_native_zoom": 18,
      "max_zoom": 24,
      "min_native_zoom": 0,
      "min_zoom": 0,
      "name": "IMG_water_MNDWI1",
      "no_wrap": false,
      "opacity": 1,
      "options": [
       "attribution",
       "detect_retina",
       "max_native_zoom",
       "max_zoom",
       "min_native_zoom",
       "min_zoom",
       "no_wrap",
       "tile_size",
       "tms"
      ],
      "popup": null,
      "popup_max_height": null,
      "popup_max_width": 300,
      "popup_min_width": 50,
      "show_loading": false,
      "tile_size": 256,
      "tms": false,
      "url": "https://earthengine.googleapis.com/v1alpha/projects/earthengine-legacy/maps/ef94caee24c1b6f04bed9536d7aec87b-d96250fd39f514ef1cc25fb024a8c9c7/tiles/{z}/{x}/{y}",
      "visible": true
     }
    },
    "c1b455af7c9f4ada86c6fe686d33c88d": {
     "model_module": "@jupyter-widgets/controls",
     "model_module_version": "1.5.0",
     "model_name": "ToggleButtonModel",
     "state": {
      "_dom_classes": [],
      "_model_module": "@jupyter-widgets/controls",
      "_model_module_version": "1.5.0",
      "_model_name": "ToggleButtonModel",
      "_view_count": null,
      "_view_module": "@jupyter-widgets/controls",
      "_view_module_version": "1.5.0",
      "_view_name": "ToggleButtonView",
      "button_style": "",
      "description": "",
      "description_tooltip": null,
      "disabled": false,
      "icon": "globe",
      "layout": "IPY_MODEL_d652531d6d7441e8bfc7b3067215045f",
      "style": "IPY_MODEL_b6f9a99a9cfa4ea2aab84dd3eb31ea1e",
      "tooltip": "Search location/data",
      "value": false
     }
    },
    "cd8b3dac22ef4563a99d4501c9b5d7e2": {
     "model_module": "jupyter-leaflet",
     "model_module_version": "^0.14.0",
     "model_name": "LeafletTileLayerModel",
     "state": {
      "_model_module": "jupyter-leaflet",
      "_model_module_version": "^0.14.0",
      "_model_name": "LeafletTileLayerModel",
      "_view_count": null,
      "_view_module": "jupyter-leaflet",
      "_view_module_version": "^0.14.0",
      "_view_name": "LeafletTileLayerView",
      "attribution": "Google Earth Engine",
      "base": false,
      "bottom": true,
      "detect_retina": false,
      "loading": false,
      "max_native_zoom": 18,
      "max_zoom": 24,
      "min_native_zoom": 0,
      "min_zoom": 0,
      "name": "IMG_water_NDWI",
      "no_wrap": false,
      "opacity": 1,
      "options": [
       "attribution",
       "detect_retina",
       "max_native_zoom",
       "max_zoom",
       "min_native_zoom",
       "min_zoom",
       "no_wrap",
       "tile_size",
       "tms"
      ],
      "popup": null,
      "popup_max_height": null,
      "popup_max_width": 300,
      "popup_min_width": 50,
      "show_loading": false,
      "tile_size": 256,
      "tms": false,
      "url": "https://earthengine.googleapis.com/v1alpha/projects/earthengine-legacy/maps/a867bb4d295e87f063673e4b300c0e44-ff49aa60865be9a886f9bb47a0b9cc4a/tiles/{z}/{x}/{y}",
      "visible": true
     }
    },
    "d40a68d12407414dbc2204ca20737fdd": {
     "model_module": "jupyter-leaflet",
     "model_module_version": "^0.14.0",
     "model_name": "LeafletAttributionControlModel",
     "state": {
      "_model_module": "jupyter-leaflet",
      "_model_module_version": "^0.14.0",
      "_model_name": "LeafletAttributionControlModel",
      "_view_count": null,
      "_view_module": "jupyter-leaflet",
      "_view_module_version": "^0.14.0",
      "_view_name": "LeafletAttributionControlView",
      "options": [
       "position",
       "prefix"
      ],
      "position": "bottomright",
      "prefix": "ipyleaflet"
     }
    },
    "d652531d6d7441e8bfc7b3067215045f": {
     "model_module": "@jupyter-widgets/base",
     "model_module_version": "1.2.0",
     "model_name": "LayoutModel",
     "state": {
      "_model_module": "@jupyter-widgets/base",
      "_model_module_version": "1.2.0",
      "_model_name": "LayoutModel",
      "_view_count": null,
      "_view_module": "@jupyter-widgets/base",
      "_view_module_version": "1.2.0",
      "_view_name": "LayoutView",
      "align_content": null,
      "align_items": null,
      "align_self": null,
      "border": null,
      "bottom": null,
      "display": null,
      "flex": null,
      "flex_flow": null,
      "grid_area": null,
      "grid_auto_columns": null,
      "grid_auto_flow": null,
      "grid_auto_rows": null,
      "grid_column": null,
      "grid_gap": null,
      "grid_row": null,
      "grid_template_areas": null,
      "grid_template_columns": null,
      "grid_template_rows": null,
      "height": "28px",
      "justify_content": null,
      "justify_items": null,
      "left": null,
      "margin": null,
      "max_height": null,
      "max_width": null,
      "min_height": null,
      "min_width": null,
      "object_fit": null,
      "object_position": null,
      "order": null,
      "overflow": null,
      "overflow_x": null,
      "overflow_y": null,
      "padding": "0px 0px 0px 4px",
      "right": null,
      "top": null,
      "visibility": null,
      "width": "28px"
     }
    },
    "dc55614de5434830892f315002d8e3bc": {
     "model_module": "jupyter-leaflet",
     "model_module_version": "^0.14.0",
     "model_name": "LeafletTileLayerModel",
     "state": {
      "_model_module": "jupyter-leaflet",
      "_model_module_version": "^0.14.0",
      "_model_name": "LeafletTileLayerModel",
      "_view_count": null,
      "_view_module": "jupyter-leaflet",
      "_view_module_version": "^0.14.0",
      "_view_name": "LeafletTileLayerView",
      "attribution": "Google Earth Engine",
      "base": false,
      "bottom": true,
      "detect_retina": false,
      "loading": false,
      "max_native_zoom": 18,
      "max_zoom": 24,
      "min_native_zoom": 0,
      "min_zoom": 0,
      "name": "IMG_NDCI",
      "no_wrap": false,
      "opacity": 1,
      "options": [
       "attribution",
       "detect_retina",
       "max_native_zoom",
       "max_zoom",
       "min_native_zoom",
       "min_zoom",
       "no_wrap",
       "tile_size",
       "tms"
      ],
      "popup": null,
      "popup_max_height": null,
      "popup_max_width": 300,
      "popup_min_width": 50,
      "show_loading": false,
      "tile_size": 256,
      "tms": false,
      "url": "https://earthengine.googleapis.com/v1alpha/projects/earthengine-legacy/maps/a81f39c4cb71f2faf834225c2c390091-649d08e426b5f1f0a82fb976287d5764/tiles/{z}/{x}/{y}",
      "visible": true
     }
    },
    "dee6aed623aa40beb82b03277c2e830e": {
     "model_module": "jupyter-leaflet",
     "model_module_version": "^0.14.0",
     "model_name": "LeafletScaleControlModel",
     "state": {
      "_model_module": "jupyter-leaflet",
      "_model_module_version": "^0.14.0",
      "_model_name": "LeafletScaleControlModel",
      "_view_count": null,
      "_view_module": "jupyter-leaflet",
      "_view_module_version": "^0.14.0",
      "_view_name": "LeafletScaleControlView",
      "imperial": true,
      "max_width": 100,
      "metric": true,
      "options": [
       "imperial",
       "max_width",
       "metric",
       "position",
       "update_when_idle"
      ],
      "position": "bottomleft",
      "update_when_idle": false
     }
    },
    "e6f60c9c47234038b1b1e35a7aaa406b": {
     "model_module": "jupyter-leaflet",
     "model_module_version": "^0.14.0",
     "model_name": "LeafletTileLayerModel",
     "state": {
      "_model_module": "jupyter-leaflet",
      "_model_module_version": "^0.14.0",
      "_model_name": "LeafletTileLayerModel",
      "_view_count": null,
      "_view_module": "jupyter-leaflet",
      "_view_module_version": "^0.14.0",
      "_view_name": "LeafletTileLayerView",
      "attribution": "Google Earth Engine",
      "base": false,
      "bottom": true,
      "detect_retina": false,
      "loading": false,
      "max_native_zoom": 18,
      "max_zoom": 24,
      "min_native_zoom": 0,
      "min_zoom": 0,
      "name": "IMG_NDCI",
      "no_wrap": false,
      "opacity": 1,
      "options": [
       "attribution",
       "detect_retina",
       "max_native_zoom",
       "max_zoom",
       "min_native_zoom",
       "min_zoom",
       "no_wrap",
       "tile_size",
       "tms"
      ],
      "popup": null,
      "popup_max_height": null,
      "popup_max_width": 300,
      "popup_min_width": 50,
      "show_loading": false,
      "tile_size": 256,
      "tms": false,
      "url": "https://earthengine.googleapis.com/v1alpha/projects/earthengine-legacy/maps/f8edbb4942c1b7fd0e4ee768ae2b60f9-7ea7b7eb2f131323fc1d285cca9f5469/tiles/{z}/{x}/{y}",
      "visible": true
     }
    },
    "e77952daa5114a6dbc355f79d0c4925e": {
     "model_module": "jupyter-leaflet",
     "model_module_version": "^0.14.0",
     "model_name": "LeafletMeasureControlModel",
     "state": {
      "_custom_units": {},
      "_model_module": "jupyter-leaflet",
      "_model_module_version": "^0.14.0",
      "_model_name": "LeafletMeasureControlModel",
      "_view_count": null,
      "_view_module": "jupyter-leaflet",
      "_view_module_version": "^0.14.0",
      "_view_name": "LeafletMeasureControlView",
      "active_color": "orange",
      "capture_z_index": 10000,
      "completed_color": "#C8F2BE",
      "options": [
       "active_color",
       "capture_z_index",
       "completed_color",
       "popup_options",
       "position",
       "primary_area_unit",
       "primary_length_unit",
       "secondary_area_unit",
       "secondary_length_unit"
      ],
      "popup_options": {
       "autoPanPadding": [
        10,
        10
       ],
       "className": "leaflet-measure-resultpopup"
      },
      "position": "bottomleft",
      "primary_area_unit": "acres",
      "primary_length_unit": "kilometers",
      "secondary_area_unit": null,
      "secondary_length_unit": null
     }
    },
    "e7a1ece4466a4dffb6062e059c3e279c": {
     "model_module": "jupyter-leaflet",
     "model_module_version": "^0.14.0",
     "model_name": "LeafletTileLayerModel",
     "state": {
      "_model_module": "jupyter-leaflet",
      "_model_module_version": "^0.14.0",
      "_model_name": "LeafletTileLayerModel",
      "_view_count": null,
      "_view_module": "jupyter-leaflet",
      "_view_module_version": "^0.14.0",
      "_view_name": "LeafletTileLayerView",
      "attribution": "Google Earth Engine",
      "base": false,
      "bottom": true,
      "detect_retina": false,
      "loading": false,
      "max_native_zoom": 18,
      "max_zoom": 18,
      "min_native_zoom": 0,
      "min_zoom": 0,
      "name": "Drawn Features",
      "no_wrap": false,
      "opacity": 0.5,
      "options": [
       "attribution",
       "detect_retina",
       "max_native_zoom",
       "max_zoom",
       "min_native_zoom",
       "min_zoom",
       "no_wrap",
       "tile_size",
       "tms"
      ],
      "popup": null,
      "popup_max_height": null,
      "popup_max_width": 300,
      "popup_min_width": 50,
      "show_loading": false,
      "tile_size": 256,
      "tms": false,
      "url": "https://earthengine.googleapis.com/v1alpha/projects/earthengine-legacy/maps/ced484870270a16a013585040d6eb059-d95ae8db6a3d52e4f5e57f88188f022c/tiles/{z}/{x}/{y}",
      "visible": false
     }
    },
    "e8e4e1a7e44f484ebfd8f60914175b7f": {
     "model_module": "jupyter-leaflet",
     "model_module_version": "^0.14.0",
     "model_name": "LeafletTileLayerModel",
     "state": {
      "_model_module": "jupyter-leaflet",
      "_model_module_version": "^0.14.0",
      "_model_name": "LeafletTileLayerModel",
      "_view_count": null,
      "_view_module": "jupyter-leaflet",
      "_view_module_version": "^0.14.0",
      "_view_name": "LeafletTileLayerView",
      "attribution": "Google Earth Engine",
      "base": false,
      "bottom": true,
      "detect_retina": false,
      "loading": false,
      "max_native_zoom": 18,
      "max_zoom": 24,
      "min_native_zoom": 0,
      "min_zoom": 0,
      "name": "IMG",
      "no_wrap": false,
      "opacity": 1,
      "options": [
       "attribution",
       "detect_retina",
       "max_native_zoom",
       "max_zoom",
       "min_native_zoom",
       "min_zoom",
       "no_wrap",
       "tile_size",
       "tms"
      ],
      "popup": null,
      "popup_max_height": null,
      "popup_max_width": 300,
      "popup_min_width": 50,
      "show_loading": false,
      "tile_size": 256,
      "tms": false,
      "url": "https://earthengine.googleapis.com/v1alpha/projects/earthengine-legacy/maps/ef91058887292cb66e2a519dc31cd5ae-94bbefe12e552330f4d74fa287b81f7f/tiles/{z}/{x}/{y}",
      "visible": true
     }
    },
    "ea1a31a06e684207be26ce78833f5449": {
     "model_module": "jupyter-leaflet",
     "model_module_version": "^0.14.0",
     "model_name": "LeafletMapStyleModel",
     "state": {
      "_model_module": "jupyter-leaflet",
      "_model_module_version": "^0.14.0",
      "_model_name": "LeafletMapStyleModel",
      "_view_count": null,
      "_view_module": "@jupyter-widgets/base",
      "_view_module_version": "1.2.0",
      "_view_name": "StyleView",
      "cursor": "grab"
     }
    },
    "eac8866e5bc9439588eb6f2bcb328b00": {
     "model_module": "jupyter-leaflet",
     "model_module_version": "^0.14.0",
     "model_name": "LeafletTileLayerModel",
     "state": {
      "_model_module": "jupyter-leaflet",
      "_model_module_version": "^0.14.0",
      "_model_name": "LeafletTileLayerModel",
      "_view_count": null,
      "_view_module": "jupyter-leaflet",
      "_view_module_version": "^0.14.0",
      "_view_name": "LeafletTileLayerView",
      "attribution": "Google Earth Engine",
      "base": false,
      "bottom": true,
      "detect_retina": false,
      "loading": false,
      "max_native_zoom": 18,
      "max_zoom": 24,
      "min_native_zoom": 0,
      "min_zoom": 0,
      "name": "IMG",
      "no_wrap": false,
      "opacity": 1,
      "options": [
       "attribution",
       "detect_retina",
       "max_native_zoom",
       "max_zoom",
       "min_native_zoom",
       "min_zoom",
       "no_wrap",
       "tile_size",
       "tms"
      ],
      "popup": null,
      "popup_max_height": null,
      "popup_max_width": 300,
      "popup_min_width": 50,
      "show_loading": false,
      "tile_size": 256,
      "tms": false,
      "url": "https://earthengine.googleapis.com/v1alpha/projects/earthengine-legacy/maps/8ac57e30dcde36db81ffc4200f229d37-b18f41db4bb86205ec5cecee6e9f5394/tiles/{z}/{x}/{y}",
      "visible": true
     }
    },
    "ee019454536b4378995d343560454625": {
     "model_module": "jupyter-leaflet",
     "model_module_version": "^0.14.0",
     "model_name": "LeafletTileLayerModel",
     "state": {
      "_model_module": "jupyter-leaflet",
      "_model_module_version": "^0.14.0",
      "_model_name": "LeafletTileLayerModel",
      "_view_count": null,
      "_view_module": "jupyter-leaflet",
      "_view_module_version": "^0.14.0",
      "_view_name": "LeafletTileLayerView",
      "attribution": "Google Earth Engine",
      "base": false,
      "bottom": true,
      "detect_retina": false,
      "loading": false,
      "max_native_zoom": 18,
      "max_zoom": 24,
      "min_native_zoom": 0,
      "min_zoom": 0,
      "name": "IMG_water_MNDWI1",
      "no_wrap": false,
      "opacity": 1,
      "options": [
       "attribution",
       "detect_retina",
       "max_native_zoom",
       "max_zoom",
       "min_native_zoom",
       "min_zoom",
       "no_wrap",
       "tile_size",
       "tms"
      ],
      "popup": null,
      "popup_max_height": null,
      "popup_max_width": 300,
      "popup_min_width": 50,
      "show_loading": false,
      "tile_size": 256,
      "tms": false,
      "url": "https://earthengine.googleapis.com/v1alpha/projects/earthengine-legacy/maps/ef94caee24c1b6f04bed9536d7aec87b-f2bf20c0ec816ea5bbdcced64be95d4d/tiles/{z}/{x}/{y}",
      "visible": true
     }
    },
    "f54c2d6817104c0d861984a8c4268688": {
     "model_module": "jupyter-leaflet",
     "model_module_version": "^0.14.0",
     "model_name": "LeafletTileLayerModel",
     "state": {
      "_model_module": "jupyter-leaflet",
      "_model_module_version": "^0.14.0",
      "_model_name": "LeafletTileLayerModel",
      "_view_count": null,
      "_view_module": "jupyter-leaflet",
      "_view_module_version": "^0.14.0",
      "_view_name": "LeafletTileLayerView",
      "attribution": "Google Earth Engine",
      "base": false,
      "bottom": true,
      "detect_retina": false,
      "loading": false,
      "max_native_zoom": 18,
      "max_zoom": 24,
      "min_native_zoom": 0,
      "min_zoom": 0,
      "name": "IMG",
      "no_wrap": false,
      "opacity": 1,
      "options": [
       "attribution",
       "detect_retina",
       "max_native_zoom",
       "max_zoom",
       "min_native_zoom",
       "min_zoom",
       "no_wrap",
       "tile_size",
       "tms"
      ],
      "popup": null,
      "popup_max_height": null,
      "popup_max_width": 300,
      "popup_min_width": 50,
      "show_loading": false,
      "tile_size": 256,
      "tms": false,
      "url": "https://earthengine.googleapis.com/v1alpha/projects/earthengine-legacy/maps/8ac57e30dcde36db81ffc4200f229d37-084dc1d89515ce6234932735c78a45e8/tiles/{z}/{x}/{y}",
      "visible": true
     }
    },
    "f866b92238424f2aa1f5a4db16fa4105": {
     "model_module": "jupyter-leaflet",
     "model_module_version": "^0.14.0",
     "model_name": "LeafletTileLayerModel",
     "state": {
      "_model_module": "jupyter-leaflet",
      "_model_module_version": "^0.14.0",
      "_model_name": "LeafletTileLayerModel",
      "_view_count": null,
      "_view_module": "jupyter-leaflet",
      "_view_module_version": "^0.14.0",
      "_view_name": "LeafletTileLayerView",
      "attribution": "Google Earth Engine",
      "base": false,
      "bottom": true,
      "detect_retina": false,
      "loading": false,
      "max_native_zoom": 18,
      "max_zoom": 24,
      "min_native_zoom": 0,
      "min_zoom": 0,
      "name": "IMG_water_NDWI",
      "no_wrap": false,
      "opacity": 1,
      "options": [
       "attribution",
       "detect_retina",
       "max_native_zoom",
       "max_zoom",
       "min_native_zoom",
       "min_zoom",
       "no_wrap",
       "tile_size",
       "tms"
      ],
      "popup": null,
      "popup_max_height": null,
      "popup_max_width": 300,
      "popup_min_width": 50,
      "show_loading": false,
      "tile_size": 256,
      "tms": false,
      "url": "https://earthengine.googleapis.com/v1alpha/projects/earthengine-legacy/maps/7dcd559dfeb5316c2e9f8ac68ffdfd50-02419d265490f8e87c1f1153ba0d37af/tiles/{z}/{x}/{y}",
      "visible": true
     }
    },
    "fdbc5fee9c3e401d973a39920fa4bfa2": {
     "model_module": "jupyter-leaflet",
     "model_module_version": "^0.14.0",
     "model_name": "LeafletTileLayerModel",
     "state": {
      "_model_module": "jupyter-leaflet",
      "_model_module_version": "^0.14.0",
      "_model_name": "LeafletTileLayerModel",
      "_view_count": null,
      "_view_module": "jupyter-leaflet",
      "_view_module_version": "^0.14.0",
      "_view_name": "LeafletTileLayerView",
      "attribution": "Google Earth Engine",
      "base": false,
      "bottom": true,
      "detect_retina": false,
      "loading": false,
      "max_native_zoom": 18,
      "max_zoom": 24,
      "min_native_zoom": 0,
      "min_zoom": 0,
      "name": "IMG_water_NDWI",
      "no_wrap": false,
      "opacity": 1,
      "options": [
       "attribution",
       "detect_retina",
       "max_native_zoom",
       "max_zoom",
       "min_native_zoom",
       "min_zoom",
       "no_wrap",
       "tile_size",
       "tms"
      ],
      "popup": null,
      "popup_max_height": null,
      "popup_max_width": 300,
      "popup_min_width": 50,
      "show_loading": false,
      "tile_size": 256,
      "tms": false,
      "url": "https://earthengine.googleapis.com/v1alpha/projects/earthengine-legacy/maps/f41ce9a0e66fbcfa3fe0f86f0720ffdd-8c0fd8155ee579df2ea2a47d1c6be32a/tiles/{z}/{x}/{y}",
      "visible": true
     }
    },
    "fe1d6a49981e46e3827037c980e408de": {
     "model_module": "jupyter-leaflet",
     "model_module_version": "^0.14.0",
     "model_name": "LeafletTileLayerModel",
     "state": {
      "_model_module": "jupyter-leaflet",
      "_model_module_version": "^0.14.0",
      "_model_name": "LeafletTileLayerModel",
      "_view_count": null,
      "_view_module": "jupyter-leaflet",
      "_view_module_version": "^0.14.0",
      "_view_name": "LeafletTileLayerView",
      "attribution": "Google Earth Engine",
      "base": false,
      "bottom": true,
      "detect_retina": false,
      "loading": false,
      "max_native_zoom": 18,
      "max_zoom": 24,
      "min_native_zoom": 0,
      "min_zoom": 0,
      "name": "IMG_NDCI",
      "no_wrap": false,
      "opacity": 1,
      "options": [
       "attribution",
       "detect_retina",
       "max_native_zoom",
       "max_zoom",
       "min_native_zoom",
       "min_zoom",
       "no_wrap",
       "tile_size",
       "tms"
      ],
      "popup": null,
      "popup_max_height": null,
      "popup_max_width": 300,
      "popup_min_width": 50,
      "show_loading": false,
      "tile_size": 256,
      "tms": false,
      "url": "https://earthengine.googleapis.com/v1alpha/projects/earthengine-legacy/maps/b8d6131115fee1557877bec1fdb6c9fe-8977b9bb1ad1b9ede448e0afbfdc915d/tiles/{z}/{x}/{y}",
      "visible": true
     }
    }
   }
  }
 },
 "nbformat": 4,
 "nbformat_minor": 1
}
