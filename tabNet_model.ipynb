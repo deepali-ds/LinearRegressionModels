{
 "cells": [
  {
   "cell_type": "markdown",
   "metadata": {
    "id": "gfcszStDXdsW"
   },
   "source": [
    "**TabNet Model**"
   ]
  },
  {
   "cell_type": "code",
   "execution_count": 1,
   "metadata": {
    "colab": {
     "base_uri": "https://localhost:8080/"
    },
    "id": "D5T3QWi6YgUm",
    "outputId": "fd031a1c-d73c-4235-b046-26a12b2abda7"
   },
   "outputs": [
    {
     "name": "stdout",
     "output_type": "stream",
     "text": [
      "Requirement already satisfied: torch in /usr/local/lib/python3.7/dist-packages (1.10.0+cu111)\n",
      "Requirement already satisfied: typing-extensions in /usr/local/lib/python3.7/dist-packages (from torch) (3.10.0.2)\n"
     ]
    }
   ],
   "source": [
    "! pip install torch"
   ]
  },
  {
   "cell_type": "code",
   "execution_count": 2,
   "metadata": {
    "colab": {
     "base_uri": "https://localhost:8080/"
    },
    "id": "NPbUtI3mYsZB",
    "outputId": "48f716f1-9f7d-4b31-8aff-f13cb9e6c9c4"
   },
   "outputs": [
    {
     "name": "stdout",
     "output_type": "stream",
     "text": [
      "Collecting pytorch_tabnet\n",
      "  Downloading pytorch_tabnet-3.1.1-py3-none-any.whl (39 kB)\n",
      "Requirement already satisfied: scipy>1.4 in /usr/local/lib/python3.7/dist-packages (from pytorch_tabnet) (1.4.1)\n",
      "Requirement already satisfied: scikit_learn>0.21 in /usr/local/lib/python3.7/dist-packages (from pytorch_tabnet) (1.0.1)\n",
      "Requirement already satisfied: numpy<2.0,>=1.17 in /usr/local/lib/python3.7/dist-packages (from pytorch_tabnet) (1.19.5)\n",
      "Requirement already satisfied: torch<2.0,>=1.2 in /usr/local/lib/python3.7/dist-packages (from pytorch_tabnet) (1.10.0+cu111)\n",
      "Requirement already satisfied: tqdm<5.0,>=4.36 in /usr/local/lib/python3.7/dist-packages (from pytorch_tabnet) (4.62.3)\n",
      "Requirement already satisfied: threadpoolctl>=2.0.0 in /usr/local/lib/python3.7/dist-packages (from scikit_learn>0.21->pytorch_tabnet) (3.0.0)\n",
      "Requirement already satisfied: joblib>=0.11 in /usr/local/lib/python3.7/dist-packages (from scikit_learn>0.21->pytorch_tabnet) (1.1.0)\n",
      "Requirement already satisfied: typing-extensions in /usr/local/lib/python3.7/dist-packages (from torch<2.0,>=1.2->pytorch_tabnet) (3.10.0.2)\n",
      "Installing collected packages: pytorch-tabnet\n",
      "Successfully installed pytorch-tabnet-3.1.1\n"
     ]
    }
   ],
   "source": [
    "! pip install pytorch_tabnet"
   ]
  },
  {
   "cell_type": "code",
   "execution_count": 3,
   "metadata": {
    "id": "819iqLqcXeOx"
   },
   "outputs": [],
   "source": [
    "# Importing libraries\n",
    "import pandas as pd\n",
    "import numpy as np\n",
    "import matplotlib.pyplot as plt\n",
    "from sklearn.model_selection import train_test_split\n",
    "from sklearn.metrics import roc_auc_score, accuracy_score\n",
    "import pytorch_tabnet\n",
    "from pytorch_tabnet.tab_model import TabNetClassifier\n",
    "import torch"
   ]
  },
  {
   "cell_type": "code",
   "execution_count": 5,
   "metadata": {
    "id": "ULzj7N3kXeSw"
   },
   "outputs": [],
   "source": [
    "df = pd.read_csv(\"/content/IGRA_derived_ISD (1).csv\")"
   ]
  },
  {
   "cell_type": "code",
   "execution_count": 6,
   "metadata": {
    "id": "V5RxA10GXea8"
   },
   "outputs": [],
   "source": [
    "df = df.rename(columns={'Unnamed: 0':'date'})\n",
    "df['date'] = pd.to_datetime(df.date)\n",
    "df['month']= df.date.dt.month"
   ]
  },
  {
   "cell_type": "code",
   "execution_count": 7,
   "metadata": {
    "colab": {
     "base_uri": "https://localhost:8080/",
     "height": 660
    },
    "id": "B20jmEzyZhTM",
    "outputId": "21524573-c069-4919-dd89-8734ad7a697a"
   },
   "outputs": [
    {
     "data": {
      "text/html": [
       "<div>\n",
       "<style scoped>\n",
       "    .dataframe tbody tr th:only-of-type {\n",
       "        vertical-align: middle;\n",
       "    }\n",
       "\n",
       "    .dataframe tbody tr th {\n",
       "        vertical-align: top;\n",
       "    }\n",
       "\n",
       "    .dataframe thead th {\n",
       "        text-align: right;\n",
       "    }\n",
       "</style>\n",
       "<table border=\"1\" class=\"dataframe\">\n",
       "  <thead>\n",
       "    <tr style=\"text-align: right;\">\n",
       "      <th></th>\n",
       "      <th>date</th>\n",
       "      <th>Lower level humidity</th>\n",
       "      <th>Mid level humidity</th>\n",
       "      <th>U-wind at lower and mid levels</th>\n",
       "      <th>V-wind at lower and mid levels</th>\n",
       "      <th>Upper level wind shear</th>\n",
       "      <th>Convective Condensation Level - thermodynamics</th>\n",
       "      <th>Total Precipitable Water - thermodynamics</th>\n",
       "      <th>rained</th>\n",
       "      <th>month_1</th>\n",
       "      <th>month_2</th>\n",
       "      <th>month_3</th>\n",
       "      <th>month_4</th>\n",
       "      <th>month_5</th>\n",
       "      <th>month_6</th>\n",
       "      <th>month_7</th>\n",
       "      <th>month_8</th>\n",
       "      <th>month_9</th>\n",
       "      <th>month_10</th>\n",
       "      <th>month_11</th>\n",
       "      <th>month_12</th>\n",
       "    </tr>\n",
       "  </thead>\n",
       "  <tbody>\n",
       "    <tr>\n",
       "      <th>0</th>\n",
       "      <td>2008-01-07</td>\n",
       "      <td>86.499196</td>\n",
       "      <td>57.931008</td>\n",
       "      <td>-6.902578</td>\n",
       "      <td>-0.314079</td>\n",
       "      <td>14.081125</td>\n",
       "      <td>937.272727</td>\n",
       "      <td>54.295680</td>\n",
       "      <td>1</td>\n",
       "      <td>1</td>\n",
       "      <td>0</td>\n",
       "      <td>0</td>\n",
       "      <td>0</td>\n",
       "      <td>0</td>\n",
       "      <td>0</td>\n",
       "      <td>0</td>\n",
       "      <td>0</td>\n",
       "      <td>0</td>\n",
       "      <td>0</td>\n",
       "      <td>0</td>\n",
       "      <td>0</td>\n",
       "    </tr>\n",
       "    <tr>\n",
       "      <th>1</th>\n",
       "      <td>2008-01-09</td>\n",
       "      <td>86.168358</td>\n",
       "      <td>54.514297</td>\n",
       "      <td>-3.278000</td>\n",
       "      <td>0.458702</td>\n",
       "      <td>22.582340</td>\n",
       "      <td>927.282828</td>\n",
       "      <td>52.823946</td>\n",
       "      <td>0</td>\n",
       "      <td>1</td>\n",
       "      <td>0</td>\n",
       "      <td>0</td>\n",
       "      <td>0</td>\n",
       "      <td>0</td>\n",
       "      <td>0</td>\n",
       "      <td>0</td>\n",
       "      <td>0</td>\n",
       "      <td>0</td>\n",
       "      <td>0</td>\n",
       "      <td>0</td>\n",
       "      <td>0</td>\n",
       "    </tr>\n",
       "    <tr>\n",
       "      <th>2</th>\n",
       "      <td>2008-01-10</td>\n",
       "      <td>79.143281</td>\n",
       "      <td>57.851667</td>\n",
       "      <td>-3.922668</td>\n",
       "      <td>-0.298095</td>\n",
       "      <td>20.153949</td>\n",
       "      <td>939.977719</td>\n",
       "      <td>51.750694</td>\n",
       "      <td>0</td>\n",
       "      <td>1</td>\n",
       "      <td>0</td>\n",
       "      <td>0</td>\n",
       "      <td>0</td>\n",
       "      <td>0</td>\n",
       "      <td>0</td>\n",
       "      <td>0</td>\n",
       "      <td>0</td>\n",
       "      <td>0</td>\n",
       "      <td>0</td>\n",
       "      <td>0</td>\n",
       "      <td>0</td>\n",
       "    </tr>\n",
       "    <tr>\n",
       "      <th>3</th>\n",
       "      <td>2008-01-11</td>\n",
       "      <td>95.091659</td>\n",
       "      <td>46.222987</td>\n",
       "      <td>-3.805388</td>\n",
       "      <td>-0.805555</td>\n",
       "      <td>12.508025</td>\n",
       "      <td>945.386941</td>\n",
       "      <td>52.291372</td>\n",
       "      <td>0</td>\n",
       "      <td>1</td>\n",
       "      <td>0</td>\n",
       "      <td>0</td>\n",
       "      <td>0</td>\n",
       "      <td>0</td>\n",
       "      <td>0</td>\n",
       "      <td>0</td>\n",
       "      <td>0</td>\n",
       "      <td>0</td>\n",
       "      <td>0</td>\n",
       "      <td>0</td>\n",
       "      <td>0</td>\n",
       "    </tr>\n",
       "    <tr>\n",
       "      <th>4</th>\n",
       "      <td>2008-01-14</td>\n",
       "      <td>84.461156</td>\n",
       "      <td>50.054546</td>\n",
       "      <td>-5.205679</td>\n",
       "      <td>-1.960991</td>\n",
       "      <td>13.273023</td>\n",
       "      <td>945.464646</td>\n",
       "      <td>49.246384</td>\n",
       "      <td>0</td>\n",
       "      <td>1</td>\n",
       "      <td>0</td>\n",
       "      <td>0</td>\n",
       "      <td>0</td>\n",
       "      <td>0</td>\n",
       "      <td>0</td>\n",
       "      <td>0</td>\n",
       "      <td>0</td>\n",
       "      <td>0</td>\n",
       "      <td>0</td>\n",
       "      <td>0</td>\n",
       "      <td>0</td>\n",
       "    </tr>\n",
       "    <tr>\n",
       "      <th>...</th>\n",
       "      <td>...</td>\n",
       "      <td>...</td>\n",
       "      <td>...</td>\n",
       "      <td>...</td>\n",
       "      <td>...</td>\n",
       "      <td>...</td>\n",
       "      <td>...</td>\n",
       "      <td>...</td>\n",
       "      <td>...</td>\n",
       "      <td>...</td>\n",
       "      <td>...</td>\n",
       "      <td>...</td>\n",
       "      <td>...</td>\n",
       "      <td>...</td>\n",
       "      <td>...</td>\n",
       "      <td>...</td>\n",
       "      <td>...</td>\n",
       "      <td>...</td>\n",
       "      <td>...</td>\n",
       "      <td>...</td>\n",
       "      <td>...</td>\n",
       "    </tr>\n",
       "    <tr>\n",
       "      <th>1943</th>\n",
       "      <td>2020-11-23</td>\n",
       "      <td>80.763536</td>\n",
       "      <td>63.038494</td>\n",
       "      <td>-3.095620</td>\n",
       "      <td>-0.112123</td>\n",
       "      <td>8.905251</td>\n",
       "      <td>927.919751</td>\n",
       "      <td>52.060570</td>\n",
       "      <td>0</td>\n",
       "      <td>0</td>\n",
       "      <td>0</td>\n",
       "      <td>0</td>\n",
       "      <td>0</td>\n",
       "      <td>0</td>\n",
       "      <td>0</td>\n",
       "      <td>0</td>\n",
       "      <td>0</td>\n",
       "      <td>0</td>\n",
       "      <td>0</td>\n",
       "      <td>1</td>\n",
       "      <td>0</td>\n",
       "    </tr>\n",
       "    <tr>\n",
       "      <th>1944</th>\n",
       "      <td>2020-11-24</td>\n",
       "      <td>79.875799</td>\n",
       "      <td>57.782143</td>\n",
       "      <td>-2.019782</td>\n",
       "      <td>0.478315</td>\n",
       "      <td>10.174126</td>\n",
       "      <td>946.881988</td>\n",
       "      <td>52.172048</td>\n",
       "      <td>0</td>\n",
       "      <td>0</td>\n",
       "      <td>0</td>\n",
       "      <td>0</td>\n",
       "      <td>0</td>\n",
       "      <td>0</td>\n",
       "      <td>0</td>\n",
       "      <td>0</td>\n",
       "      <td>0</td>\n",
       "      <td>0</td>\n",
       "      <td>0</td>\n",
       "      <td>1</td>\n",
       "      <td>0</td>\n",
       "    </tr>\n",
       "    <tr>\n",
       "      <th>1945</th>\n",
       "      <td>2020-11-25</td>\n",
       "      <td>85.373563</td>\n",
       "      <td>69.314963</td>\n",
       "      <td>-3.153909</td>\n",
       "      <td>0.433123</td>\n",
       "      <td>3.529094</td>\n",
       "      <td>946.881988</td>\n",
       "      <td>57.111295</td>\n",
       "      <td>0</td>\n",
       "      <td>0</td>\n",
       "      <td>0</td>\n",
       "      <td>0</td>\n",
       "      <td>0</td>\n",
       "      <td>0</td>\n",
       "      <td>0</td>\n",
       "      <td>0</td>\n",
       "      <td>0</td>\n",
       "      <td>0</td>\n",
       "      <td>0</td>\n",
       "      <td>1</td>\n",
       "      <td>0</td>\n",
       "    </tr>\n",
       "    <tr>\n",
       "      <th>1946</th>\n",
       "      <td>2020-11-26</td>\n",
       "      <td>83.473585</td>\n",
       "      <td>66.102843</td>\n",
       "      <td>-4.562995</td>\n",
       "      <td>-0.407110</td>\n",
       "      <td>12.979985</td>\n",
       "      <td>939.577570</td>\n",
       "      <td>52.867623</td>\n",
       "      <td>1</td>\n",
       "      <td>0</td>\n",
       "      <td>0</td>\n",
       "      <td>0</td>\n",
       "      <td>0</td>\n",
       "      <td>0</td>\n",
       "      <td>0</td>\n",
       "      <td>0</td>\n",
       "      <td>0</td>\n",
       "      <td>0</td>\n",
       "      <td>0</td>\n",
       "      <td>1</td>\n",
       "      <td>0</td>\n",
       "    </tr>\n",
       "    <tr>\n",
       "      <th>1947</th>\n",
       "      <td>2020-11-27</td>\n",
       "      <td>82.885946</td>\n",
       "      <td>49.430367</td>\n",
       "      <td>-4.475191</td>\n",
       "      <td>-0.250980</td>\n",
       "      <td>9.219474</td>\n",
       "      <td>940.602865</td>\n",
       "      <td>48.888634</td>\n",
       "      <td>1</td>\n",
       "      <td>0</td>\n",
       "      <td>0</td>\n",
       "      <td>0</td>\n",
       "      <td>0</td>\n",
       "      <td>0</td>\n",
       "      <td>0</td>\n",
       "      <td>0</td>\n",
       "      <td>0</td>\n",
       "      <td>0</td>\n",
       "      <td>0</td>\n",
       "      <td>1</td>\n",
       "      <td>0</td>\n",
       "    </tr>\n",
       "  </tbody>\n",
       "</table>\n",
       "<p>1948 rows × 21 columns</p>\n",
       "</div>"
      ],
      "text/plain": [
       "           date  Lower level humidity  ...  month_11  month_12\n",
       "0    2008-01-07             86.499196  ...         0         0\n",
       "1    2008-01-09             86.168358  ...         0         0\n",
       "2    2008-01-10             79.143281  ...         0         0\n",
       "3    2008-01-11             95.091659  ...         0         0\n",
       "4    2008-01-14             84.461156  ...         0         0\n",
       "...         ...                   ...  ...       ...       ...\n",
       "1943 2020-11-23             80.763536  ...         1         0\n",
       "1944 2020-11-24             79.875799  ...         1         0\n",
       "1945 2020-11-25             85.373563  ...         1         0\n",
       "1946 2020-11-26             83.473585  ...         1         0\n",
       "1947 2020-11-27             82.885946  ...         1         0\n",
       "\n",
       "[1948 rows x 21 columns]"
      ]
     },
     "execution_count": 7,
     "metadata": {},
     "output_type": "execute_result"
    }
   ],
   "source": [
    "# One hot encoding\n",
    "one_hot_encoded_data = pd.get_dummies(df, columns = ['month'])\n",
    "df=pd.DataFrame(data=one_hot_encoded_data)\n",
    "df"
   ]
  },
  {
   "cell_type": "code",
   "execution_count": 8,
   "metadata": {
    "colab": {
     "base_uri": "https://localhost:8080/"
    },
    "id": "_Z1D9n1Fbv5y",
    "outputId": "4ad7c5aa-c925-4556-f90a-9d1d9df85c40"
   },
   "outputs": [
    {
     "data": {
      "text/plain": [
       "(1948, 21)"
      ]
     },
     "execution_count": 8,
     "metadata": {},
     "output_type": "execute_result"
    }
   ],
   "source": [
    "df.shape"
   ]
  },
  {
   "cell_type": "code",
   "execution_count": 9,
   "metadata": {
    "id": "srhe_5rdZhWy"
   },
   "outputs": [],
   "source": [
    "y=df['rained']\n",
    "X = df.iloc[:,1:]\n",
    "X=X.drop(columns=['rained'])"
   ]
  },
  {
   "cell_type": "code",
   "execution_count": 10,
   "metadata": {
    "id": "X3saUz8rZhaZ"
   },
   "outputs": [],
   "source": [
    "# Transforming features using Min Max Scaler\n",
    "from sklearn.preprocessing import MinMaxScaler\n",
    "scaler = MinMaxScaler().fit(X)\n",
    "X = scaler.transform(X)"
   ]
  },
  {
   "cell_type": "code",
   "execution_count": 11,
   "metadata": {
    "id": "Azqg2B8kZhd0"
   },
   "outputs": [],
   "source": [
    "# Splitting data\n",
    "X_train, X_test, y_train, y_test = train_test_split(X, y, test_size = 0.20, stratify=y, random_state=123)"
   ]
  },
  {
   "cell_type": "markdown",
   "metadata": {
    "id": "6343bqQX87Iy"
   },
   "source": [
    "## **Model Building**"
   ]
  },
  {
   "cell_type": "code",
   "execution_count": 12,
   "metadata": {
    "colab": {
     "base_uri": "https://localhost:8080/"
    },
    "id": "1DKOs8mngUNT",
    "outputId": "65adc7ed-510b-4783-deba-d006c96fdc9b"
   },
   "outputs": [
    {
     "name": "stdout",
     "output_type": "stream",
     "text": [
      "Device used : cpu\n",
      "epoch 0  | loss: 1.12867 | val_0_auc: 0.71246 | val_0_accuracy: 0.67949 |  0:00:00s\n",
      "epoch 1  | loss: 0.59054 | val_0_auc: 0.78119 | val_0_accuracy: 0.6641  |  0:00:00s\n",
      "epoch 2  | loss: 0.56135 | val_0_auc: 0.8284  | val_0_accuracy: 0.64615 |  0:00:00s\n",
      "epoch 3  | loss: 0.51792 | val_0_auc: 0.8057  | val_0_accuracy: 0.64872 |  0:00:00s\n",
      "epoch 4  | loss: 0.50926 | val_0_auc: 0.77288 | val_0_accuracy: 0.67692 |  0:00:00s\n",
      "epoch 5  | loss: 0.45826 | val_0_auc: 0.73143 | val_0_accuracy: 0.70256 |  0:00:00s\n",
      "epoch 6  | loss: 0.45052 | val_0_auc: 0.72347 | val_0_accuracy: 0.70513 |  0:00:01s\n",
      "epoch 7  | loss: 0.45722 | val_0_auc: 0.72842 | val_0_accuracy: 0.74103 |  0:00:01s\n",
      "epoch 8  | loss: 0.4625  | val_0_auc: 0.7445  | val_0_accuracy: 0.73846 |  0:00:01s\n",
      "epoch 9  | loss: 0.45779 | val_0_auc: 0.76589 | val_0_accuracy: 0.74359 |  0:00:01s\n",
      "epoch 10 | loss: 0.44949 | val_0_auc: 0.79134 | val_0_accuracy: 0.74359 |  0:00:01s\n",
      "epoch 11 | loss: 0.43193 | val_0_auc: 0.81989 | val_0_accuracy: 0.75128 |  0:00:01s\n",
      "epoch 12 | loss: 0.42931 | val_0_auc: 0.83751 | val_0_accuracy: 0.76923 |  0:00:01s\n",
      "epoch 13 | loss: 0.40073 | val_0_auc: 0.84465 | val_0_accuracy: 0.77179 |  0:00:01s\n",
      "epoch 14 | loss: 0.4189  | val_0_auc: 0.84497 | val_0_accuracy: 0.76923 |  0:00:01s\n",
      "epoch 15 | loss: 0.43615 | val_0_auc: 0.84634 | val_0_accuracy: 0.76923 |  0:00:02s\n",
      "epoch 16 | loss: 0.40787 | val_0_auc: 0.85053 | val_0_accuracy: 0.78205 |  0:00:02s\n",
      "epoch 17 | loss: 0.41796 | val_0_auc: 0.8499  | val_0_accuracy: 0.79487 |  0:00:02s\n",
      "epoch 18 | loss: 0.42243 | val_0_auc: 0.84465 | val_0_accuracy: 0.79487 |  0:00:02s\n",
      "epoch 19 | loss: 0.42048 | val_0_auc: 0.84852 | val_0_accuracy: 0.78718 |  0:00:02s\n",
      "epoch 20 | loss: 0.44218 | val_0_auc: 0.85299 | val_0_accuracy: 0.78974 |  0:00:02s\n",
      "epoch 21 | loss: 0.4025  | val_0_auc: 0.85603 | val_0_accuracy: 0.78718 |  0:00:02s\n",
      "epoch 22 | loss: 0.39949 | val_0_auc: 0.85801 | val_0_accuracy: 0.78205 |  0:00:02s\n",
      "epoch 23 | loss: 0.37853 | val_0_auc: 0.85829 | val_0_accuracy: 0.79231 |  0:00:02s\n",
      "epoch 24 | loss: 0.37967 | val_0_auc: 0.85835 | val_0_accuracy: 0.80256 |  0:00:03s\n",
      "epoch 25 | loss: 0.39973 | val_0_auc: 0.85976 | val_0_accuracy: 0.81026 |  0:00:03s\n",
      "epoch 26 | loss: 0.38287 | val_0_auc: 0.85998 | val_0_accuracy: 0.80513 |  0:00:03s\n",
      "epoch 27 | loss: 0.39648 | val_0_auc: 0.85849 | val_0_accuracy: 0.82051 |  0:00:03s\n",
      "epoch 28 | loss: 0.38055 | val_0_auc: 0.8568  | val_0_accuracy: 0.80513 |  0:00:03s\n",
      "epoch 29 | loss: 0.37884 | val_0_auc: 0.85563 | val_0_accuracy: 0.8     |  0:00:03s\n",
      "epoch 30 | loss: 0.37942 | val_0_auc: 0.85548 | val_0_accuracy: 0.8     |  0:00:03s\n",
      "epoch 31 | loss: 0.39461 | val_0_auc: 0.85517 | val_0_accuracy: 0.80256 |  0:00:03s\n",
      "epoch 32 | loss: 0.35783 | val_0_auc: 0.85411 | val_0_accuracy: 0.8     |  0:00:03s\n",
      "epoch 33 | loss: 0.37908 | val_0_auc: 0.85293 | val_0_accuracy: 0.8     |  0:00:03s\n",
      "epoch 34 | loss: 0.38936 | val_0_auc: 0.85018 | val_0_accuracy: 0.79487 |  0:00:04s\n",
      "epoch 35 | loss: 0.35426 | val_0_auc: 0.84703 | val_0_accuracy: 0.8     |  0:00:04s\n",
      "epoch 36 | loss: 0.36637 | val_0_auc: 0.84623 | val_0_accuracy: 0.8     |  0:00:04s\n",
      "epoch 37 | loss: 0.3889  | val_0_auc: 0.84531 | val_0_accuracy: 0.8     |  0:00:04s\n",
      "epoch 38 | loss: 0.36038 | val_0_auc: 0.84135 | val_0_accuracy: 0.79231 |  0:00:04s\n",
      "epoch 39 | loss: 0.36841 | val_0_auc: 0.84032 | val_0_accuracy: 0.79487 |  0:00:04s\n",
      "epoch 40 | loss: 0.33969 | val_0_auc: 0.84084 | val_0_accuracy: 0.79487 |  0:00:04s\n",
      "epoch 41 | loss: 0.36452 | val_0_auc: 0.83743 | val_0_accuracy: 0.77436 |  0:00:04s\n",
      "epoch 42 | loss: 0.35529 | val_0_auc: 0.83149 | val_0_accuracy: 0.77179 |  0:00:04s\n",
      "epoch 43 | loss: 0.33915 | val_0_auc: 0.82396 | val_0_accuracy: 0.77436 |  0:00:05s\n",
      "epoch 44 | loss: 0.35352 | val_0_auc: 0.81754 | val_0_accuracy: 0.78974 |  0:00:05s\n",
      "epoch 45 | loss: 0.32955 | val_0_auc: 0.81137 | val_0_accuracy: 0.78718 |  0:00:05s\n",
      "epoch 46 | loss: 0.35913 | val_0_auc: 0.81109 | val_0_accuracy: 0.78205 |  0:00:05s\n",
      "epoch 47 | loss: 0.33558 | val_0_auc: 0.81596 | val_0_accuracy: 0.77179 |  0:00:05s\n",
      "epoch 48 | loss: 0.32989 | val_0_auc: 0.82814 | val_0_accuracy: 0.77179 |  0:00:05s\n",
      "epoch 49 | loss: 0.35234 | val_0_auc: 0.83889 | val_0_accuracy: 0.78718 |  0:00:05s\n",
      "epoch 50 | loss: 0.36978 | val_0_auc: 0.8413  | val_0_accuracy: 0.8     |  0:00:05s\n",
      "epoch 51 | loss: 0.35885 | val_0_auc: 0.84021 | val_0_accuracy: 0.79744 |  0:00:05s\n",
      "epoch 52 | loss: 0.34852 | val_0_auc: 0.83803 | val_0_accuracy: 0.78718 |  0:00:05s\n",
      "epoch 53 | loss: 0.3505  | val_0_auc: 0.84101 | val_0_accuracy: 0.80256 |  0:00:06s\n",
      "epoch 54 | loss: 0.34218 | val_0_auc: 0.83955 | val_0_accuracy: 0.81282 |  0:00:06s\n",
      "epoch 55 | loss: 0.3165  | val_0_auc: 0.83548 | val_0_accuracy: 0.77949 |  0:00:06s\n",
      "epoch 56 | loss: 0.34223 | val_0_auc: 0.82814 | val_0_accuracy: 0.77692 |  0:00:06s\n",
      "epoch 57 | loss: 0.33531 | val_0_auc: 0.82115 | val_0_accuracy: 0.77179 |  0:00:06s\n",
      "epoch 58 | loss: 0.33288 | val_0_auc: 0.81653 | val_0_accuracy: 0.7641  |  0:00:06s\n",
      "epoch 59 | loss: 0.32573 | val_0_auc: 0.81507 | val_0_accuracy: 0.7641  |  0:00:06s\n",
      "epoch 60 | loss: 0.3408  | val_0_auc: 0.81862 | val_0_accuracy: 0.76154 |  0:00:06s\n",
      "epoch 61 | loss: 0.33722 | val_0_auc: 0.82599 | val_0_accuracy: 0.77436 |  0:00:06s\n",
      "epoch 62 | loss: 0.32402 | val_0_auc: 0.83081 | val_0_accuracy: 0.76923 |  0:00:07s\n",
      "epoch 63 | loss: 0.33639 | val_0_auc: 0.83187 | val_0_accuracy: 0.77692 |  0:00:07s\n",
      "epoch 64 | loss: 0.34991 | val_0_auc: 0.82783 | val_0_accuracy: 0.75641 |  0:00:07s\n",
      "epoch 65 | loss: 0.31359 | val_0_auc: 0.82361 | val_0_accuracy: 0.75897 |  0:00:07s\n",
      "epoch 66 | loss: 0.32819 | val_0_auc: 0.82    | val_0_accuracy: 0.75897 |  0:00:07s\n",
      "epoch 67 | loss: 0.31035 | val_0_auc: 0.81653 | val_0_accuracy: 0.75897 |  0:00:07s\n",
      "epoch 68 | loss: 0.32064 | val_0_auc: 0.81688 | val_0_accuracy: 0.74615 |  0:00:07s\n",
      "epoch 69 | loss: 0.34021 | val_0_auc: 0.81636 | val_0_accuracy: 0.76923 |  0:00:07s\n",
      "epoch 70 | loss: 0.32709 | val_0_auc: 0.81748 | val_0_accuracy: 0.75897 |  0:00:07s\n",
      "epoch 71 | loss: 0.33226 | val_0_auc: 0.8243  | val_0_accuracy: 0.7641  |  0:00:07s\n",
      "epoch 72 | loss: 0.333   | val_0_auc: 0.82576 | val_0_accuracy: 0.7641  |  0:00:08s\n",
      "epoch 73 | loss: 0.32006 | val_0_auc: 0.8192  | val_0_accuracy: 0.76923 |  0:00:08s\n",
      "epoch 74 | loss: 0.29486 | val_0_auc: 0.8188  | val_0_accuracy: 0.74872 |  0:00:08s\n",
      "epoch 75 | loss: 0.31824 | val_0_auc: 0.81739 | val_0_accuracy: 0.76667 |  0:00:08s\n",
      "epoch 76 | loss: 0.31187 | val_0_auc: 0.81478 | val_0_accuracy: 0.7641  |  0:00:08s\n",
      "epoch 77 | loss: 0.30245 | val_0_auc: 0.81143 | val_0_accuracy: 0.75128 |  0:00:08s\n",
      "\n",
      "Early stopping occurred at epoch 77 with best_epoch = 27 and best_val_0_accuracy = 0.82051\n",
      "Best weights from best epoch are automatically used!\n"
     ]
    }
   ],
   "source": [
    "# Building model\n",
    "tabnet_clf = TabNetClassifier(scheduler_fn=torch.optim.lr_scheduler.StepLR,\n",
    "                                optimizer_fn=torch.optim.Adam,\n",
    "                                optimizer_params=dict(lr=2e-2), \n",
    "                                scheduler_params={'step_size': 25, 'gamma': 0.8}, \n",
    "                                mask_type='entmax',\n",
    "                                n_d=16,\n",
    "                                n_a=16\n",
    "                                )\n",
    "\n",
    "\n",
    "tabnet_clf.fit(\n",
    "      X_train, y_train,\n",
    "      eval_set=[(X_test, y_test)],\n",
    "      eval_metric= ['auc', 'accuracy'],\n",
    "      max_epochs=1000,\n",
    "      patience=50,\n",
    "      batch_size=1024, # 1024\n",
    "      virtual_batch_size=512, # 512\n",
    "      num_workers=0,\n",
    "      weights=1,\n",
    "      drop_last=False\n",
    "      )   \n",
    "\n"
   ]
  },
  {
   "cell_type": "code",
   "execution_count": 13,
   "metadata": {
    "colab": {
     "base_uri": "https://localhost:8080/"
    },
    "id": "n4hVR-xBZZAt",
    "outputId": "3fc905c3-a60b-4450-8f00-44e03e972a60"
   },
   "outputs": [
    {
     "name": "stdout",
     "output_type": "stream",
     "text": [
      "the test accuracy is :0.820513\n"
     ]
    }
   ],
   "source": [
    "print('the test accuracy is :{:.6f}'.format(accuracy_score(y_test,tabnet_clf.predict(X_test))))"
   ]
  },
  {
   "cell_type": "code",
   "execution_count": 14,
   "metadata": {
    "colab": {
     "base_uri": "https://localhost:8080/",
     "height": 282
    },
    "id": "jE7qXy4DZZMA",
    "outputId": "bed9617a-8c77-443f-b25d-525ccf0abd18"
   },
   "outputs": [
    {
     "data": {
      "text/plain": [
       "[<matplotlib.lines.Line2D at 0x7ff54974d210>]"
      ]
     },
     "execution_count": 14,
     "metadata": {},
     "output_type": "execute_result"
    },
    {
     "data": {
      "image/png": "[encoded data removed]",
      "text/plain": [
       "<Figure size 432x288 with 1 Axes>"
      ]
     },
     "metadata": {
      "needs_background": "light"
     },
     "output_type": "display_data"
    }
   ],
   "source": [
    "# Plot loss\n",
    "plt.plot(tabnet_clf.history['loss'])"
   ]
  },
  {
   "cell_type": "code",
   "execution_count": 17,
   "metadata": {
    "colab": {
     "base_uri": "https://localhost:8080/",
     "height": 282
    },
    "id": "j-E6vuABaBtK",
    "outputId": "6c6bb7ae-bc31-485d-f6db-d1cf55fcb8b7"
   },
   "outputs": [
    {
     "data": {
      "text/plain": [
       "<matplotlib.axes._subplots.AxesSubplot at 0x7ff549179350>"
      ]
     },
     "execution_count": 17,
     "metadata": {},
     "output_type": "execute_result"
    },
    {
     "data": {
      "image/png": "[encoded data removed]",
      "text/plain": [
       "<Figure size 432x288 with 1 Axes>"
      ]
     },
     "metadata": {
      "needs_background": "light"
     },
     "output_type": "display_data"
    }
   ],
   "source": [
    "# find and plot feature importance\n",
    "y_pred = tabnet_clf.predict(X_test)\n",
    "tabnet_clf.feature_importances_\n",
    "feat_importances = pd.Series(tabnet_clf.feature_importances_)\n",
    "feat_importances.nlargest(20).plot(kind='barh')"
   ]
  },
  {
   "cell_type": "code",
   "execution_count": 19,
   "metadata": {
    "id": "a6JecUmlaBwR"
   },
   "outputs": [],
   "source": [
    "# determine best accuracy for test set\n",
    "preds = tabnet_clf.predict(X_test)\n",
    "test_acc = accuracy_score(preds, y_test)"
   ]
  },
  {
   "cell_type": "code",
   "execution_count": 21,
   "metadata": {
    "id": "Bg-xKl1oaBzq"
   },
   "outputs": [],
   "source": [
    "# determine best accuracy for test set\n",
    "preds_valid = tabnet_clf.predict(X_test)\n",
    "valid_acc = accuracy_score(preds_valid, y_test)"
   ]
  },
  {
   "cell_type": "code",
   "execution_count": 22,
   "metadata": {
    "colab": {
     "base_uri": "https://localhost:8080/"
    },
    "id": "BAXLRl8XbAsy",
    "outputId": "162c208b-7f69-44a4-ccd5-4dc19c30509a"
   },
   "outputs": [
    {
     "name": "stdout",
     "output_type": "stream",
     "text": [
      "BEST ACCURACY SCORE ON VALIDATION SET : 0.8205128205128205\n",
      "BEST ACCURACY SCORE ON TEST SET : 0.8205128205128205\n"
     ]
    }
   ],
   "source": [
    "print(f\"BEST ACCURACY SCORE ON TEST SET : {test_acc}\")"
   ]
  },
  {
   "cell_type": "code",
   "execution_count": null,
   "metadata": {
    "id": "SzPwnoGsbAwz"
   },
   "outputs": [],
   "source": []
  },
  {
   "cell_type": "code",
   "execution_count": null,
   "metadata": {
    "id": "aO-jj0d1bAz_"
   },
   "outputs": [],
   "source": []
  }
 ],
 "metadata": {
  "colab": {
   "name": "tabNet.ipynb",
   "provenance": []
  },
  "kernelspec": {
   "display_name": "Python 3 (ipykernel)",
   "language": "python",
   "name": "python3"
  },
  "language_info": {
   "codemirror_mode": {
    "name": "ipython",
    "version": 3
   },
   "file_extension": ".py",
   "mimetype": "text/x-python",
   "name": "python",
   "nbconvert_exporter": "python",
   "pygments_lexer": "ipython3",
   "version": "3.9.12"
  }
 },
 "nbformat": 4,
 "nbformat_minor": 1
}
